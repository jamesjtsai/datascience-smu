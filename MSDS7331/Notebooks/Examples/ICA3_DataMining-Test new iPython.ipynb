{
 "cells": [
  {
   "cell_type": "markdown",
   "metadata": {},
   "source": [
    "Enter Team Member Names here (double click to edit):\n",
    "\n",
    "- Name 1:\n",
    "- Name 2:\n",
    "- Name 3:\n",
    "\n",
    "________\n",
    "\n",
    "#In Class Assignment Three Test Notebook\n",
    "In the following assignment you will be asked to fill in python code and derivations for a number of different problems. Please read all instructions carefully and turn in the rendered notebook (or HTML of the rendered notebook)  before the end of class.\n",
    "\n",
    "________________________________________________________________________________________________________\n",
    "\n",
    "##Downloading the Document Data\n",
    "Please run the following code to read in the \"20 newsgroups\" dataset from sklearn's data loading module."
   ]
  },
  {
   "cell_type": "code",
   "execution_count": 2,
   "metadata": {
    "collapsed": false
   },
   "outputs": [
    {
     "name": "stdout",
     "output_type": "stream",
     "text": [
      "('features shape:', (11314, 130107))\n",
      "('target shape:', (11314,))\n",
      "('range of target:', 0, 19)\n",
      "('Data type is', <class 'scipy.sparse.csr.csr_matrix'>, 0.1214353154362896, '% of the data is non-zero')\n"
     ]
    }
   ],
   "source": [
    "from sklearn.datasets import fetch_20newsgroups_vectorized\n",
    "import numpy as np\n",
    "\n",
    "# this takes about 30 seconds to compute, read the next section while this downloads\n",
    "ds = fetch_20newsgroups_vectorized(subset='train')\n",
    "\n",
    "# this holds the continuous feature data (which is tfidf)\n",
    "print('features shape:', ds.data.shape) # there are ~11000 instances and ~130k features per instance\n",
    "print('target shape:', ds.target.shape)\n",
    "print('range of target:', np.min(ds.target),np.max(ds.target))\n",
    "print('Data type is', type(ds.data), float(ds.data.nnz)/(ds.data.shape[0]*ds.data.shape[1])*100, '% of the data is non-zero')"
   ]
  },
  {
   "cell_type": "markdown",
   "metadata": {},
   "source": [
    "##Be sure you can run the above code with your version of iPython"
   ]
  },
  {
   "cell_type": "code",
   "execution_count": null,
   "metadata": {
    "collapsed": true
   },
   "outputs": [],
   "source": []
  }
 ],
 "metadata": {
  "kernelspec": {
   "display_name": "Python 2",
   "language": "python",
   "name": "python2"
  },
  "language_info": {
   "codemirror_mode": {
    "name": "ipython",
    "version": 2
   },
   "file_extension": ".py",
   "mimetype": "text/x-python",
   "name": "python",
   "nbconvert_exporter": "python",
   "pygments_lexer": "ipython2",
   "version": "2.7.10"
  }
 },
 "nbformat": 4,
 "nbformat_minor": 0
}
