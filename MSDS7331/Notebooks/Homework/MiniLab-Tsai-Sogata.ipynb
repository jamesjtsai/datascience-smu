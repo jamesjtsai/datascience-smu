{
 "cells": [
  {
   "cell_type": "code",
   "execution_count": 1,
   "metadata": {
    "collapsed": false
   },
   "outputs": [],
   "source": [
    "import pandas as pd\n",
    "import numpy as np\n",
    "import matplotlib.pyplot as plt\n",
    "%matplotlib inline\n",
    "import time\n",
    "from os.path import expanduser"
   ]
  },
  {
   "cell_type": "code",
   "execution_count": 2,
   "metadata": {
    "collapsed": false
   },
   "outputs": [],
   "source": [
    "# Read in the complete loan data set into a DataFrame\n",
    "home = expanduser('~')\n",
    "data_dir = home + '/Dropbox/Personal/Jupyter/Notebooks/DataScience-SMU/MSDS7331-Data-Mining/Homework/data/'\n",
    "filename = 'loan.csv'\n",
    "df_all = pd.read_csv(data_dir + filename, low_memory=False)"
   ]
  },
  {
   "cell_type": "code",
   "execution_count": 3,
   "metadata": {
    "collapsed": false
   },
   "outputs": [
    {
     "name": "stdout",
     "output_type": "stream",
     "text": [
      "<class 'pandas.core.frame.DataFrame'>\n",
      "RangeIndex: 887379 entries, 0 to 887378\n",
      "Data columns (total 74 columns):\n",
      "id                             887379 non-null int64\n",
      "member_id                      887379 non-null int64\n",
      "loan_amnt                      887379 non-null float64\n",
      "funded_amnt                    887379 non-null float64\n",
      "funded_amnt_inv                887379 non-null float64\n",
      "term                           887379 non-null object\n",
      "int_rate                       887379 non-null float64\n",
      "installment                    887379 non-null float64\n",
      "grade                          887379 non-null object\n",
      "sub_grade                      887379 non-null object\n",
      "emp_title                      835922 non-null object\n",
      "emp_length                     887379 non-null object\n",
      "home_ownership                 887379 non-null object\n",
      "annual_inc                     887375 non-null float64\n",
      "verification_status            887379 non-null object\n",
      "issue_d                        887379 non-null object\n",
      "loan_status                    887379 non-null object\n",
      "pymnt_plan                     887379 non-null object\n",
      "url                            887379 non-null object\n",
      "desc                           126029 non-null object\n",
      "purpose                        887379 non-null object\n",
      "title                          887228 non-null object\n",
      "zip_code                       887379 non-null object\n",
      "addr_state                     887379 non-null object\n",
      "dti                            887379 non-null float64\n",
      "delinq_2yrs                    887350 non-null float64\n",
      "earliest_cr_line               887350 non-null object\n",
      "inq_last_6mths                 887350 non-null float64\n",
      "mths_since_last_delinq         433067 non-null float64\n",
      "mths_since_last_record         137053 non-null float64\n",
      "open_acc                       887350 non-null float64\n",
      "pub_rec                        887350 non-null float64\n",
      "revol_bal                      887379 non-null float64\n",
      "revol_util                     886877 non-null float64\n",
      "total_acc                      887350 non-null float64\n",
      "initial_list_status            887379 non-null object\n",
      "out_prncp                      887379 non-null float64\n",
      "out_prncp_inv                  887379 non-null float64\n",
      "total_pymnt                    887379 non-null float64\n",
      "total_pymnt_inv                887379 non-null float64\n",
      "total_rec_prncp                887379 non-null float64\n",
      "total_rec_int                  887379 non-null float64\n",
      "total_rec_late_fee             887379 non-null float64\n",
      "recoveries                     887379 non-null float64\n",
      "collection_recovery_fee        887379 non-null float64\n",
      "last_pymnt_d                   869720 non-null object\n",
      "last_pymnt_amnt                887379 non-null float64\n",
      "next_pymnt_d                   634408 non-null object\n",
      "last_credit_pull_d             887326 non-null object\n",
      "collections_12_mths_ex_med     887234 non-null float64\n",
      "mths_since_last_major_derog    221703 non-null float64\n",
      "policy_code                    887379 non-null float64\n",
      "application_type               887379 non-null object\n",
      "annual_inc_joint               511 non-null float64\n",
      "dti_joint                      509 non-null float64\n",
      "verification_status_joint      511 non-null object\n",
      "acc_now_delinq                 887350 non-null float64\n",
      "tot_coll_amt                   817103 non-null float64\n",
      "tot_cur_bal                    817103 non-null float64\n",
      "open_acc_6m                    21372 non-null float64\n",
      "open_il_6m                     21372 non-null float64\n",
      "open_il_12m                    21372 non-null float64\n",
      "open_il_24m                    21372 non-null float64\n",
      "mths_since_rcnt_il             20810 non-null float64\n",
      "total_bal_il                   21372 non-null float64\n",
      "il_util                        18617 non-null float64\n",
      "open_rv_12m                    21372 non-null float64\n",
      "open_rv_24m                    21372 non-null float64\n",
      "max_bal_bc                     21372 non-null float64\n",
      "all_util                       21372 non-null float64\n",
      "total_rev_hi_lim               817103 non-null float64\n",
      "inq_fi                         21372 non-null float64\n",
      "total_cu_tl                    21372 non-null float64\n",
      "inq_last_12m                   21372 non-null float64\n",
      "dtypes: float64(49), int64(2), object(23)\n",
      "memory usage: 501.0+ MB\n"
     ]
    }
   ],
   "source": [
    "df_all.info()"
   ]
  },
  {
   "cell_type": "code",
   "execution_count": 4,
   "metadata": {
    "collapsed": true
   },
   "outputs": [],
   "source": [
    "# Drop the attributes that we think are not applicable to this model or have an insignificant amount of data. This is continuation from Lab 1.\n",
    "df_all.drop(['id',\n",
    "             'member_id',\n",
    "             'verification_status',\n",
    "             'issue_d',\n",
    "             'pymnt_plan',\n",
    "             'url',\n",
    "             'desc',\n",
    "             'title',\n",
    "             'earliest_cr_line',\n",
    "             'emp_title',\n",
    "             'inq_last_6mths',\n",
    "             'initial_list_status',\n",
    "             'out_prncp',\n",
    "             'out_prncp_inv',\n",
    "             'last_pymnt_d',\n",
    "             'last_pymnt_amnt',\n",
    "             'next_pymnt_d',\n",
    "             'last_credit_pull_d',\n",
    "             'collections_12_mths_ex_med',\n",
    "             'mths_since_last_delinq',\n",
    "             'mths_since_last_record',\n",
    "             'mths_since_last_major_derog',\n",
    "             'policy_code',\n",
    "             'application_type',\n",
    "             'annual_inc_joint',\n",
    "             'annual_inc_joint',\n",
    "             'dti_joint',\n",
    "             'verification_status_joint',\n",
    "             'acc_now_delinq',\n",
    "             'tot_coll_amt',\n",
    "             'tot_cur_bal',\n",
    "             'open_acc_6m',\n",
    "             'open_il_6m',\n",
    "             'open_il_12m',\n",
    "             'open_il_24m',\n",
    "             'mths_since_rcnt_il',\n",
    "             'total_bal_il',\n",
    "             'il_util',\n",
    "             'open_rv_12m',\n",
    "             'open_rv_24m',\n",
    "             'max_bal_bc',\n",
    "             'all_util',\n",
    "             'total_rev_hi_lim',\n",
    "             'inq_fi',\n",
    "             'total_cu_tl',\n",
    "             'inq_last_12m',\n",
    "             'purpose',\n",
    "             'zip_code',\n",
    "             'addr_state',\n",
    "             'revol_util',\n",
    "             'revol_bal',\n",
    "             'pub_rec',\n",
    "             'total_acc',\n",
    "             'dti',\n",
    "             'delinq_2yrs',\n",
    "             'annual_inc',\n",
    "             'open_acc'], axis =1, inplace=True)"
   ]
  },
  {
   "cell_type": "code",
   "execution_count": 5,
   "metadata": {
    "collapsed": true
   },
   "outputs": [],
   "source": [
    "df_all = df_all.dropna()"
   ]
  },
  {
   "cell_type": "code",
   "execution_count": 6,
   "metadata": {
    "collapsed": false
   },
   "outputs": [
    {
     "name": "stdout",
     "output_type": "stream",
     "text": [
      "<class 'pandas.core.frame.DataFrame'>\n",
      "Int64Index: 887379 entries, 0 to 887378\n",
      "Data columns (total 18 columns):\n",
      "loan_amnt                  887379 non-null float64\n",
      "funded_amnt                887379 non-null float64\n",
      "funded_amnt_inv            887379 non-null float64\n",
      "term                       887379 non-null object\n",
      "int_rate                   887379 non-null float64\n",
      "installment                887379 non-null float64\n",
      "grade                      887379 non-null object\n",
      "sub_grade                  887379 non-null object\n",
      "emp_length                 887379 non-null object\n",
      "home_ownership             887379 non-null object\n",
      "loan_status                887379 non-null object\n",
      "total_pymnt                887379 non-null float64\n",
      "total_pymnt_inv            887379 non-null float64\n",
      "total_rec_prncp            887379 non-null float64\n",
      "total_rec_int              887379 non-null float64\n",
      "total_rec_late_fee         887379 non-null float64\n",
      "recoveries                 887379 non-null float64\n",
      "collection_recovery_fee    887379 non-null float64\n",
      "dtypes: float64(12), object(6)\n",
      "memory usage: 128.6+ MB\n"
     ]
    }
   ],
   "source": [
    "df_all.info()"
   ]
  },
  {
   "cell_type": "code",
   "execution_count": 7,
   "metadata": {
    "collapsed": true
   },
   "outputs": [],
   "source": [
    "# Encode loan term (36 or 60 months) to be a binary value\n",
    "df_all['IsShortTerm'] = df_all.term.str.contains('36')\n",
    "df_all.IsShortTerm = df_all.IsShortTerm.astype(np.int)\n",
    "del df_all['term']"
   ]
  },
  {
   "cell_type": "code",
   "execution_count": 8,
   "metadata": {
    "collapsed": false
   },
   "outputs": [
    {
     "data": {
      "text/plain": [
       "1    621125\n",
       "0    266254\n",
       "Name: IsShortTerm, dtype: int64"
      ]
     },
     "execution_count": 8,
     "metadata": {},
     "output_type": "execute_result"
    }
   ],
   "source": [
    "df_all.IsShortTerm.value_counts()"
   ]
  },
  {
   "cell_type": "code",
   "execution_count": 9,
   "metadata": {
    "collapsed": false
   },
   "outputs": [],
   "source": [
    "# Hot encode loan grade (A, B, C, D, E, F, G)\n",
    "tmp_df = pd.get_dummies(df_all.grade,prefix='grade')\n",
    "df_all = pd.concat((df_all,tmp_df),axis=1)"
   ]
  },
  {
   "cell_type": "code",
   "execution_count": 10,
   "metadata": {
    "collapsed": true
   },
   "outputs": [],
   "source": [
    "if 'grade' in df_all:    \n",
    "    del df_all['grade']\n",
    "    del df_all['sub_grade']"
   ]
  },
  {
   "cell_type": "code",
   "execution_count": 11,
   "metadata": {
    "collapsed": false
   },
   "outputs": [],
   "source": [
    "# Hot encode employment length\n",
    "tmp_df = pd.get_dummies(df_all.emp_length,prefix='emp_length')\n",
    "df_all = pd.concat((df_all,tmp_df),axis=1)"
   ]
  },
  {
   "cell_type": "code",
   "execution_count": 12,
   "metadata": {
    "collapsed": true
   },
   "outputs": [],
   "source": [
    "if 'emp_length' in df_all:    \n",
    "    del df_all['emp_length']"
   ]
  },
  {
   "cell_type": "code",
   "execution_count": 13,
   "metadata": {
    "collapsed": true
   },
   "outputs": [],
   "source": [
    "# Hot encode home ownership\n",
    "tmp_df = pd.get_dummies(df_all.home_ownership,prefix='home_ownership')\n",
    "df_all = pd.concat((df_all,tmp_df),axis=1)"
   ]
  },
  {
   "cell_type": "code",
   "execution_count": 14,
   "metadata": {
    "collapsed": true
   },
   "outputs": [],
   "source": [
    "if 'home_ownership' in df_all:    \n",
    "    del df_all['home_ownership']"
   ]
  },
  {
   "cell_type": "code",
   "execution_count": 15,
   "metadata": {
    "collapsed": true
   },
   "outputs": [],
   "source": [
    "df_all = df_all.replace(to_replace= ['Fully Paid',\n",
    "                                     'Current',\n",
    "                                     'Does not meet the credit policy. Status:Fully Paid'], value = 1)\n",
    "df_all = df_all.replace(to_replace= ['Charged Off',\n",
    "                                     'Issued',\n",
    "                                     'Late (31-120 days)',\n",
    "                                     'In Grace Period',\n",
    "                                     'Late (16-30 days)',\n",
    "                                     'Default',\n",
    "                                     'Does not meet the credit policy. Status:Charged Off'], value = 0)"
   ]
  },
  {
   "cell_type": "code",
   "execution_count": 16,
   "metadata": {
    "collapsed": false
   },
   "outputs": [],
   "source": [
    "df_all = df_all.rename(columns={'loan_status':'IsLoanStatusGood'})"
   ]
  },
  {
   "cell_type": "code",
   "execution_count": 17,
   "metadata": {
    "collapsed": false
   },
   "outputs": [
    {
     "name": "stdout",
     "output_type": "stream",
     "text": [
      "<class 'pandas.core.frame.DataFrame'>\n",
      "Int64Index: 887379 entries, 0 to 887378\n",
      "Data columns (total 39 columns):\n",
      "loan_amnt                  887379 non-null float64\n",
      "funded_amnt                887379 non-null float64\n",
      "funded_amnt_inv            887379 non-null float64\n",
      "int_rate                   887379 non-null float64\n",
      "installment                887379 non-null float64\n",
      "IsLoanStatusGood           887379 non-null int64\n",
      "total_pymnt                887379 non-null float64\n",
      "total_pymnt_inv            887379 non-null float64\n",
      "total_rec_prncp            887379 non-null float64\n",
      "total_rec_int              887379 non-null float64\n",
      "total_rec_late_fee         887379 non-null float64\n",
      "recoveries                 887379 non-null float64\n",
      "collection_recovery_fee    887379 non-null float64\n",
      "IsShortTerm                887379 non-null int64\n",
      "grade_A                    887379 non-null float64\n",
      "grade_B                    887379 non-null float64\n",
      "grade_C                    887379 non-null float64\n",
      "grade_D                    887379 non-null float64\n",
      "grade_E                    887379 non-null float64\n",
      "grade_F                    887379 non-null float64\n",
      "grade_G                    887379 non-null float64\n",
      "emp_length_1 year          887379 non-null float64\n",
      "emp_length_10+ years       887379 non-null float64\n",
      "emp_length_2 years         887379 non-null float64\n",
      "emp_length_3 years         887379 non-null float64\n",
      "emp_length_4 years         887379 non-null float64\n",
      "emp_length_5 years         887379 non-null float64\n",
      "emp_length_6 years         887379 non-null float64\n",
      "emp_length_7 years         887379 non-null float64\n",
      "emp_length_8 years         887379 non-null float64\n",
      "emp_length_9 years         887379 non-null float64\n",
      "emp_length_< 1 year        887379 non-null float64\n",
      "emp_length_n/a             887379 non-null float64\n",
      "home_ownership_ANY         887379 non-null float64\n",
      "home_ownership_MORTGAGE    887379 non-null float64\n",
      "home_ownership_NONE        887379 non-null float64\n",
      "home_ownership_OTHER       887379 non-null float64\n",
      "home_ownership_OWN         887379 non-null float64\n",
      "home_ownership_RENT        887379 non-null float64\n",
      "dtypes: float64(37), int64(2)\n",
      "memory usage: 270.8 MB\n"
     ]
    }
   ],
   "source": [
    "df_all.info()"
   ]
  },
  {
   "cell_type": "markdown",
   "metadata": {},
   "source": [
    "### Create logistic regression model and support vector machine model"
   ]
  },
  {
   "cell_type": "code",
   "execution_count": 18,
   "metadata": {
    "collapsed": false
   },
   "outputs": [],
   "source": [
    "if 'IsLoanStatusGood' in df_all:\n",
    "    y = df_all['IsLoanStatusGood'].values\n",
    "    del df_all['IsLoanStatusGood']\n",
    "    X = df_all.values"
   ]
  },
  {
   "cell_type": "code",
   "execution_count": 19,
   "metadata": {
    "collapsed": false
   },
   "outputs": [
    {
     "name": "stdout",
     "output_type": "stream",
     "text": [
      "(887379,)\n",
      "(887379, 38)\n"
     ]
    }
   ],
   "source": [
    "print y.shape\n",
    "print X.shape"
   ]
  },
  {
   "cell_type": "markdown",
   "metadata": {},
   "source": [
    "##### Logistic Regression Model"
   ]
  },
  {
   "cell_type": "code",
   "execution_count": null,
   "metadata": {
    "collapsed": false
   },
   "outputs": [
    {
     "name": "stdout",
     "output_type": "stream",
     "text": [
      "ShuffleSplit(887379, n_iter=3, test_size=0.2, random_state=None)\n",
      "Training time for Logistic Regression Model: 9.693 seconds\n",
      "====Iteration"
     ]
    }
   ],
   "source": [
    "t1 = time.clock()\n",
    "\n",
    "from sklearn.cross_validation import ShuffleSplit\n",
    "from sklearn.linear_model import LogisticRegression\n",
    "from sklearn import metrics as mt\n",
    "\n",
    "num_cv_iterations = 3\n",
    "num_instances = len(y)\n",
    "cv_object = ShuffleSplit(n=num_instances,\n",
    "                         n_iter=num_cv_iterations,\n",
    "                         train_size = 0.8,\n",
    "                         test_size = 0.2)\n",
    "                         \n",
    "print cv_object\n",
    "\n",
    "lr_clf = LogisticRegression(penalty='l2', C=1.0, class_weight=None)\n",
    "\n",
    "iter_num=0\n",
    "for train_indices, test_indices in cv_object: \n",
    "    X_train = X[train_indices]\n",
    "    y_train = y[train_indices]\n",
    "    \n",
    "    X_test = X[test_indices]\n",
    "    y_test = y[test_indices]\n",
    "    \n",
    "    # train the reusable logisitc regression model on the training data\n",
    "    t2 = time.clock()\n",
    "    lr_clf.fit(X_train,y_train)\n",
    "    t3 = time.clock()\n",
    "    print('Training time for Logistic Regression Model: %.3f seconds' % (t3-t2))\n",
    "    y_hat = lr_clf.predict(X_test) # get test set precitions\n",
    "\n",
    "    # now let's get the accuracy and confusion matrix for this iterations of training/testing\n",
    "    acc = mt.accuracy_score(y_test,y_hat)\n",
    "    conf = mt.confusion_matrix(y_test,y_hat)\n",
    "    print \"====Iteration\",iter_num,\" ====\"\n",
    "    print \"accuracy\", acc \n",
    "    print \"confusion matrix\\n\",conf\n",
    "    iter_num+=1\n",
    "\n",
    "t4 = time.clock()\n",
    "print('Logistic Regression Model ran in: %.3f seconds' % (t4-t1))"
   ]
  },
  {
   "cell_type": "markdown",
   "metadata": {},
   "source": [
    "We varied the Cost from 0.01 to 10000, in factors of 10, and the accuracy remained around 94%, holding the class weight at None. The training and testing time did not vary significantly.\n",
    "\n",
    "We varied the Cost from 0.01 to 10000, in factors of 10, and the accuracy remained around 80%, holding the class weight at Balanced. The training and testing time did not vary significantly."
   ]
  },
  {
   "cell_type": "markdown",
   "metadata": {},
   "source": [
    "##### Support Vector Classification"
   ]
  },
  {
   "cell_type": "code",
   "execution_count": 22,
   "metadata": {
    "collapsed": false
   },
   "outputs": [
    {
     "name": "stdout",
     "output_type": "stream",
     "text": [
      "ShuffleSplit(887379, n_iter=3, test_size=0.1, random_state=None)\n",
      "[LibSVM]Accuracy: 0.940386305754\n",
      "[[ 2336  5290]\n",
      " [    0 81112]]\n",
      "SVM ran in: 27.489 seconds\n"
     ]
    }
   ],
   "source": [
    "# take a timestamp at the beginning of the SVM process\n",
    "t1 = time.clock()\n",
    "\n",
    "from sklearn.cross_validation import ShuffleSplit\n",
    "from sklearn.preprocessing import StandardScaler\n",
    "from sklearn.svm import SVC\n",
    "\n",
    "num_cv_iterations = 3\n",
    "num_instances = len(y)\n",
    "\n",
    "# due to unreasonable time constraint, we had to limit the training and test data to 1/10\n",
    "# http://scikit-learn.org/stable/modules/generated/sklearn.svm.SVC.html\n",
    "# C-Support Vector Classification.\n",
    "# The implementation is based on libsvm.\n",
    "# The fit time complexity is more than quadratic with the number of samples\n",
    "# which makes it hard to scale to dataset with more than a couple of 10000 samples.\n",
    "cv_object = ShuffleSplit(n=num_instances,\n",
    "                         n_iter=num_cv_iterations,\n",
    "                         train_size = 0.01,\n",
    "                         test_size = 0.1)\n",
    "                         \n",
    "print cv_object\n",
    "\n",
    "for train_indices, test_indices in cv_object: \n",
    "    X_train = X[train_indices]\n",
    "    y_train = y[train_indices]\n",
    "    X_test = X[test_indices]\n",
    "    y_test = y[test_indices]\n",
    "\n",
    "scl_obj = StandardScaler()\n",
    "scl_obj.fit(X_train)\n",
    "X_train_scaled = scl_obj.transform(X_train) # apply to training\n",
    "X_test_scaled = scl_obj.transform(X_test)\n",
    "\n",
    "# train the model\n",
    "svm_clf = SVC(C=1.0, kernel='linear', degree=3, gamma='auto', verbose=2) # get object\n",
    "svm_clf.fit(X_train_scaled, y_train)\n",
    "\n",
    "# get the test set predictions\n",
    "y_hat = svm_clf.predict(X_test_scaled)\n",
    "\n",
    "acc = mt.accuracy_score(y_test,y_hat)\n",
    "conf = mt.confusion_matrix(y_test,y_hat)\n",
    "print 'Accuracy:', acc \n",
    "print conf\n",
    "\n",
    "t2 = time.clock()\n",
    "print('SVM ran in: %.3f seconds' % (t2-t1))"
   ]
  },
  {
   "cell_type": "markdown",
   "metadata": {},
   "source": [
    "Adjusting the Cost to 1.0 resulted in the most accurate model at 94.1%. However, this was not significantly better than varying the Cost between 0.01 and 10. The time utilized for training and fitting the data increased substantially as we increased the Cost factor from 0.01 to 10. The time increased from 7.67 seconds to 219.433 seconds, respectively."
   ]
  },
  {
   "cell_type": "markdown",
   "metadata": {},
   "source": [
    "##### Stochastic Gradient Descent"
   ]
  },
  {
   "cell_type": "code",
   "execution_count": 22,
   "metadata": {
    "collapsed": false
   },
   "outputs": [
    {
     "name": "stdout",
     "output_type": "stream",
     "text": [
      "Accuracy: 0.940155288602\n",
      "Stochastic Gradient Descent Classifier ran in: 2.951 seconds\n"
     ]
    }
   ],
   "source": [
    "t1 = time.clock()\n",
    "\n",
    "from sklearn.linear_model import SGDClassifier\n",
    "from sklearn.preprocessing import StandardScaler\n",
    "from sklearn import metrics as mt\n",
    "from sklearn.cross_validation import StratifiedShuffleSplit \n",
    "\n",
    "# use 80/20 training/testing\n",
    "cv = StratifiedShuffleSplit(y,\n",
    "                            n_iter=1,\n",
    "                            train_size=0.8,\n",
    "                            test_size=0.2)\n",
    "\n",
    "regularize_const = 0.0001\n",
    "iterations = 5\n",
    "\n",
    "# The default setting is penalty=\"l2\"\n",
    "# The default setting is alpha=0.0001\n",
    "svm_sgd = SGDClassifier(alpha=regularize_const,\n",
    "                        fit_intercept=True,\n",
    "                        l1_ratio=0.0,\n",
    "                        learning_rate='optimal',\n",
    "                        loss='hinge',\n",
    "                        n_iter=iterations,\n",
    "                        n_jobs=-1)\n",
    "scl = StandardScaler()\n",
    "for train_idx, test_idx in cv:\n",
    "    svm_sgd.fit(scl.fit_transform(X[train_idx]),y[train_idx])\n",
    "    yhat = svm_sgd.predict(scl.transform(X[test_idx]))\n",
    "    conf = mt.confusion_matrix(y[test_idx],yhat)\n",
    "    acc = mt.accuracy_score(y[test_idx],yhat)\n",
    "\n",
    "print 'Accuracy:', acc\n",
    "\n",
    "t2 = time.clock()\n",
    "print('Stochastic Gradient Descent Classifier ran in: %.3f seconds' % (t2-t1))"
   ]
  },
  {
   "cell_type": "markdown",
   "metadata": {},
   "source": [
    "Adjusting the regularization constant to 0.0001 resulted in the most accurate model at 94% accuracy. We varied the regularization constant from 0.00001 to 100 by factors of 10, and the accuracy was highest at 0.940 when regularization constant was set at 0.0001. As the regularization constant was increased to 100, the accuracy declined to around 0.914."
   ]
  },
  {
   "cell_type": "markdown",
   "metadata": {},
   "source": [
    "### Advantages/disadvantages of each classification task"
   ]
  },
  {
   "cell_type": "markdown",
   "metadata": {},
   "source": [
    "#### Logistic Regression: Advantages/Disadvantages:\n",
    "• Second most computationally efficient of all models we tried, was able to use 80% of data set to train.  \n",
    "• Accuracy was best of all models at 94.1%.    \n",
    "• Robust to noise, generally can avoid overfitting.  \n",
    "• In general, logistic regression performs well as long as features are roughly linear. Looking at the number of false positives and false negatives in our confusion matrix, we suspect our data posseses non-linear qualities.   \n",
    "• Easy to interpret.  \n",
    "• Requires a lot of features for the model to perform well.  \n",
    "\n",
    "#### Support Vector Classification: Advantages/Disadvantages:\n",
    "• Most computationally inefficent of all models we tried, had to limit the training data to 1% of data set.  \n",
    "• Accuracy was as good as other models at 94%.  \n",
    "• Highly accurate for non-linear features.  \n",
    "• Robust against overfitting.  \n",
    "• No distribution requirement.   \n",
    "• Hard to interpret.  \n",
    "\n",
    "#### Stochastic Gradient Descent: Advantages/Disadvantages:\n",
    "• Most computationally efficient of all models we tried, was able to use 80% of data set to train.  \n",
    "• Accuracy was as good as other models at 94%.  \n",
    "• Implementation is simple, only requires few lines of code.      \n",
    "• It requires regularization parameter to prevent overfitting.    "
   ]
  },
  {
   "cell_type": "markdown",
   "metadata": {},
   "source": [
    "### Interpreting Weights"
   ]
  },
  {
   "cell_type": "code",
   "execution_count": 23,
   "metadata": {
    "collapsed": false
   },
   "outputs": [
    {
     "name": "stdout",
     "output_type": "stream",
     "text": [
      "loan_amnt has weight of -0.000189505486794\n",
      "funded_amnt has weight of -0.0029096761476\n",
      "funded_amnt_inv has weight of 0.00330128904695\n",
      "int_rate has weight of 0.127285925812\n",
      "installment has weight of -0.00561502481379\n",
      "total_pymnt has weight of -0.0354848452215\n",
      "total_pymnt_inv has weight of -0.0029846802861\n",
      "total_rec_prncp has weight of 0.038855224424\n",
      "total_rec_int has weight of 0.0379037276836\n",
      "total_rec_late_fee has weight of -0.051903556627\n",
      "recoveries has weight of -0.0603400551055\n",
      "collection_recovery_fee has weight of -0.00439332510139\n",
      "IsShortTerm has weight of 0.028513738369\n",
      "grade_A has weight of 0.0142978546593\n",
      "grade_B has weight of 0.0132837884167\n",
      "grade_C has weight of 0.00425436151017\n",
      "grade_D has weight of -0.00322338126075\n",
      "grade_E has weight of -0.00250428294913\n",
      "grade_F has weight of -0.000878721256519\n",
      "grade_G has weight of -0.000183498125324\n",
      "emp_length_1 year has weight of 0.00174765032242\n",
      "emp_length_10+ years has weight of 0.00837876839287\n",
      "emp_length_2 years has weight of 0.00262086508315\n",
      "emp_length_3 years has weight of 0.0020577578314\n",
      "emp_length_4 years has weight of 0.0016742609107\n",
      "emp_length_5 years has weight of 0.0013514879533\n",
      "emp_length_6 years has weight of 0.000509848421012\n",
      "emp_length_7 years has weight of 0.000828469540157\n",
      "emp_length_8 years has weight of 0.00132929180708\n",
      "emp_length_9 years has weight of 0.000979289907225\n",
      "emp_length_< 1 year has weight of 0.00182375067359\n",
      "emp_length_n/a has weight of 0.00174468015157\n",
      "home_ownership_ANY has weight of 3.04646372412e-07\n",
      "home_ownership_MORTGAGE has weight of 0.0120685744662\n",
      "home_ownership_NONE has weight of 5.57892295916e-07\n",
      "home_ownership_OTHER has weight of -3.29652753715e-07\n",
      "home_ownership_OWN has weight of 0.00329065365802\n",
      "home_ownership_RENT has weight of 0.00968635998432\n"
     ]
    }
   ],
   "source": [
    "# iterate over the coefficients\n",
    "weights = lr_clf.coef_.T\n",
    "variable_names = df_all.columns\n",
    "for coef, name in zip(weights,variable_names):\n",
    "    print name, 'has weight of', coef[0]"
   ]
  },
  {
   "cell_type": "code",
   "execution_count": 24,
   "metadata": {
    "collapsed": false,
    "scrolled": true
   },
   "outputs": [
    {
     "name": "stdout",
     "output_type": "stream",
     "text": [
      "accuracy: 0.936915413915\n",
      "[[ 2050  5501]\n",
      " [   97 81090]]\n",
      "\n",
      "home_ownership_ANY has weight of 0.0\n",
      "home_ownership_NONE has weight of 0.0\n",
      "home_ownership_RENT has weight of -0.000261493590698\n",
      "grade_C has weight of 0.00353223133604\n",
      "home_ownership_MORTGAGE has weight of 0.00491603813118\n",
      "emp_length_6 years has weight of -0.00561442051997\n",
      "home_ownership_OTHER has weight of -0.00738959945952\n",
      "home_ownership_OWN has weight of -0.00740475886481\n",
      "emp_length_1 year has weight of 0.00777561421824\n",
      "emp_length_2 years has weight of -0.0119147955578\n",
      "emp_length_7 years has weight of -0.0125476268471\n",
      "emp_length_n/a has weight of -0.01789054429\n",
      "emp_length_3 years has weight of -0.0261051387938\n",
      "emp_length_5 years has weight of 0.0274644952386\n",
      "emp_length_4 years has weight of 0.027751714619\n",
      "grade_D has weight of 0.0311220901155\n",
      "emp_length_8 years has weight of -0.0330030888573\n",
      "emp_length_9 years has weight of -0.0644223810319\n",
      "loan_amnt has weight of -0.0713559918348\n",
      "emp_length_< 1 year has weight of -0.0716344912545\n",
      "funded_amnt has weight of 0.0763725987305\n",
      "emp_length_10+ years has weight of 0.0899901315587\n",
      "grade_A has weight of -0.0919227888571\n",
      "grade_F has weight of 0.0987002494467\n",
      "grade_B has weight of -0.101584334992\n",
      "grade_E has weight of 0.154995774464\n",
      "grade_G has weight of 0.168760016668\n",
      "funded_amnt_inv has weight of 0.203727777877\n",
      "IsShortTerm has weight of -0.269096725865\n",
      "total_rec_late_fee has weight of -0.276180469845\n",
      "total_pymnt_inv has weight of 0.278565976001\n",
      "total_pymnt has weight of 0.289725132032\n",
      "installment has weight of -0.352612963528\n",
      "total_rec_int has weight of -0.377444919959\n",
      "total_rec_prncp has weight of 0.566362648056\n",
      "collection_recovery_fee has weight of -0.583994858424\n",
      "int_rate has weight of -0.695263552598\n",
      "recoveries has weight of -1.90227591553\n"
     ]
    }
   ],
   "source": [
    "from sklearn.preprocessing import StandardScaler\n",
    "\n",
    "# scale attributes by the training set\n",
    "scl_obj = StandardScaler()\n",
    "scl_obj.fit(X_train)\n",
    "\n",
    "X_train_scaled = scl_obj.transform(X_train)\n",
    "X_test_scaled = scl_obj.transform(X_test)\n",
    "\n",
    "# train the model just as before\n",
    "lr_clf = LogisticRegression(penalty='l2', C=0.05)\n",
    "lr_clf.fit(X_train_scaled,y_train)\n",
    "\n",
    "y_hat = lr_clf.predict(X_test_scaled)\n",
    "acc = mt.accuracy_score(y_test,y_hat)\n",
    "conf = mt.confusion_matrix(y_test,y_hat)\n",
    "print 'accuracy:', acc \n",
    "print conf\n",
    "print \n",
    "\n",
    "# sort these attributes and spit them out\n",
    "zip_vars = zip(lr_clf.coef_.T,df_all.columns)\n",
    "zip_vars.sort(key = lambda t: np.abs(t[0]))\n",
    "\n",
    "for coef, name in zip_vars:\n",
    "    print name, 'has weight of', coef[0]"
   ]
  },
  {
   "cell_type": "code",
   "execution_count": 25,
   "metadata": {
    "collapsed": false
   },
   "outputs": [
    {
     "data": {
      "image/png": "[encoded data removed]",
      "text/plain": [
       "<matplotlib.figure.Figure at 0x149450290>"
      ]
     },
     "metadata": {},
     "output_type": "display_data"
    },
    {
     "name": "stdout",
     "output_type": "stream",
     "text": [
      "Pipeline ran in: 1.326 seconds\n"
     ]
    }
   ],
   "source": [
    "t1 = time.clock()\n",
    "\n",
    "from sklearn.pipeline import Pipeline\n",
    "\n",
    "std_scl = StandardScaler()\n",
    "lr_clf = LogisticRegression(penalty='l2', C=0.05) \n",
    "\n",
    "# create the pipline\n",
    "piped_object = Pipeline([('scale', std_scl), ('logit_model', lr_clf)])\n",
    "\n",
    "# run the pipline corssvalidated\n",
    "for iter_num, (train_indices, test_indices) in enumerate(cv_object):\n",
    "    piped_object.fit(X[train_indices],y[train_indices])\n",
    "    \n",
    "# it is a little odd getting trained objects from a pipeline:\n",
    "trained_model_from_pipeline = piped_object.named_steps['logit_model']\n",
    "\n",
    "# now look at the weights\n",
    "weights = pd.Series(trained_model_from_pipeline.coef_[0],index=df_all.columns)\n",
    "weights.plot(kind='bar')\n",
    "plt.show()\n",
    "\n",
    "t2 = time.clock()\n",
    "print('Pipeline ran in: %.3f seconds' % (t2-t1))"
   ]
  },
  {
   "cell_type": "code",
   "execution_count": 26,
   "metadata": {
    "collapsed": false,
    "scrolled": false
   },
   "outputs": [
    {
     "name": "stdout",
     "output_type": "stream",
     "text": [
      "[[ -5.33823149e-03  -2.65182545e-01   2.73122814e-01  -1.66913690e-04\n",
      "   -1.80552759e-03   5.99560026e-03  -2.50850062e-01   2.09492092e-01\n",
      "    6.29964779e-02  -1.18417283e-03  -3.84184246e+00  -5.91295242e-01\n",
      "    1.02669431e-04  -2.87761475e-05  -8.09986396e-05  -5.88890913e-05\n",
      "    2.88359092e-05   1.37404652e-04   1.28718761e-04   1.04030525e-04\n",
      "   -2.94309091e-05   6.64544041e-05  -3.89616655e-05  -7.75447727e-06\n",
      "    2.83573454e-05   3.84237582e-05   9.66182957e-06  -4.64411884e-05\n",
      "   -4.50270880e-05  -2.13172567e-05   4.06957389e-06  -2.91083823e-05\n",
      "    0.00000000e+00   3.18325716e-05   0.00000000e+00   3.12527781e-14\n",
      "   -2.36852361e-05  -1.79872459e-05]]\n"
     ]
    },
    {
     "data": {
      "text/plain": [
       "<matplotlib.axes._subplots.AxesSubplot at 0x120dc8390>"
      ]
     },
     "execution_count": 26,
     "metadata": {},
     "output_type": "execute_result"
    },
    {
     "data": {
      "image/png": "[encoded data removed]",
      "text/plain": [
       "<matplotlib.figure.Figure at 0x11451fe90>"
      ]
     },
     "metadata": {},
     "output_type": "display_data"
    }
   ],
   "source": [
    "print svm_clf.coef_\n",
    "weights = pd.Series(svm_clf.coef_[0],index=df_all.columns)\n",
    "weights.plot(kind='bar')"
   ]
  },
  {
   "cell_type": "markdown",
   "metadata": {
    "collapsed": true
   },
   "source": [
    "### Interpretation"
   ]
  },
  {
   "cell_type": "markdown",
   "metadata": {},
   "source": [
    "From the standardized coefficients, we see that the two most influential features are \"recoveries\" and \"collection_recovery_fee\". These two features are related and have a high influence on whether a existing loan is in good status. If the borrower has a \"collection_recovery_fee\" amount, it means that the borrower previously defaulted on a loan. Since they had defaulted on a loan, a debt collector or a third-party had to attempt to recover the amount owed on Lending Club's behalf. The amount that was able to be recovered is the \"recoveries\" feature and the cost that it took to recover that amount is the \"collection_recovery_fee\" feature.\n",
    "\n",
    "We know from the simple statistics below, we see the majority (over 860k) of the values in \"recoveries\" and \"collection_recovery_fee\" are zero. We also know from the response variable that the majority of the loans (811k) are in good standing. Thus the depiction of the \"recoveries\" and \"collection_recovery_fee\" weight on the visualization above are consistent with expectations.\n",
    "\n",
    "It is somewhat expected as this data set is from Lending Club and they have vetted the reliable borrowers."
   ]
  },
  {
   "cell_type": "code",
   "execution_count": 27,
   "metadata": {
    "collapsed": false
   },
   "outputs": [
    {
     "data": {
      "text/plain": [
       "0.00       862702\n",
       "200.00         10\n",
       "14.28           9\n",
       "11.70           9\n",
       "10.00           9\n",
       "16.50           8\n",
       "100.00          8\n",
       "16.80           8\n",
       "800.00          8\n",
       "10.40           8\n",
       "10.20           7\n",
       "11.20           7\n",
       "12.00           7\n",
       "1200.00         7\n",
       "10.08           7\n",
       "12.24           6\n",
       "3000.00         6\n",
       "19.20           6\n",
       "11.16           6\n",
       "5200.00         6\n",
       "5000.00         6\n",
       "10.35           6\n",
       "10.92           6\n",
       "10.66           6\n",
       "13.50           6\n",
       "13.44           6\n",
       "2500.00         6\n",
       "13.20           6\n",
       "10.56           6\n",
       "2000.00         5\n",
       "            ...  \n",
       "2515.66         1\n",
       "779.52          1\n",
       "3466.54         1\n",
       "1586.42         1\n",
       "3559.35         1\n",
       "393.51          1\n",
       "2300.52         1\n",
       "154.28          1\n",
       "4585.41         1\n",
       "962.51          1\n",
       "1932.08         1\n",
       "172.22          1\n",
       "2511.40         1\n",
       "552.71          1\n",
       "666.02          1\n",
       "1362.12         1\n",
       "2673.48         1\n",
       "417.12          1\n",
       "643.27          1\n",
       "2550.07         1\n",
       "623.93          1\n",
       "665.75          1\n",
       "4213.75         1\n",
       "179.09          1\n",
       "1578.51         1\n",
       "153.96          1\n",
       "190.67          1\n",
       "560.22          1\n",
       "5731.53         1\n",
       "168.55          1\n",
       "Name: recoveries, dtype: int64"
      ]
     },
     "execution_count": 27,
     "metadata": {},
     "output_type": "execute_result"
    }
   ],
   "source": [
    "df_all.recoveries.value_counts()"
   ]
  },
  {
   "cell_type": "code",
   "execution_count": 28,
   "metadata": {
    "collapsed": false
   },
   "outputs": [
    {
     "data": {
      "text/plain": [
       "0.0000       863872\n",
       "2.0000           18\n",
       "1.8000           13\n",
       "1.2000           12\n",
       "1.5500           12\n",
       "1.8800           12\n",
       "0.8000           11\n",
       "1.0700           11\n",
       "2.5200           11\n",
       "1.9000           11\n",
       "3.2000           11\n",
       "1.6000           11\n",
       "3.3900           11\n",
       "4.5200           11\n",
       "1.6200           10\n",
       "3.0900           10\n",
       "1.4400           10\n",
       "3.9300           10\n",
       "2.6100           10\n",
       "2.8800           10\n",
       "1.6900           10\n",
       "2.7300           10\n",
       "2.0200           10\n",
       "0.9300           10\n",
       "4.6700            9\n",
       "4.4100            9\n",
       "0.8100            9\n",
       "1.2100            9\n",
       "1.8400            9\n",
       "3.7100            9\n",
       "              ...  \n",
       "14.8169           1\n",
       "123.1776          1\n",
       "138.8844          1\n",
       "149.1318          1\n",
       "4.1765            1\n",
       "11.9421           1\n",
       "12.9631           1\n",
       "570.5730          1\n",
       "45.6066           1\n",
       "316.3113          1\n",
       "281.7612          1\n",
       "6.0408            1\n",
       "6.7914            1\n",
       "538.9884          1\n",
       "17.8144           1\n",
       "214.3368          1\n",
       "1139.6300         1\n",
       "17.5300           1\n",
       "17.0650           1\n",
       "22.6737           1\n",
       "5.6245            1\n",
       "13.9875           1\n",
       "288.1890          1\n",
       "71.8902           1\n",
       "1.9490            1\n",
       "9.8536            1\n",
       "283.7664          1\n",
       "21.6469           1\n",
       "1859.7300         1\n",
       "4.4437            1\n",
       "Name: collection_recovery_fee, dtype: int64"
      ]
     },
     "execution_count": 28,
     "metadata": {},
     "output_type": "execute_result"
    }
   ],
   "source": [
    "df_all.collection_recovery_fee.value_counts()"
   ]
  },
  {
   "cell_type": "markdown",
   "metadata": {},
   "source": [
    "### Data Insight Based on Chosen Support Vectors"
   ]
  },
  {
   "cell_type": "code",
   "execution_count": 29,
   "metadata": {
    "collapsed": false
   },
   "outputs": [
    {
     "name": "stdout",
     "output_type": "stream",
     "text": [
      "(1520, 38)\n",
      "(1520,)\n",
      "[538 982]\n"
     ]
    }
   ],
   "source": [
    "# look at the support vectors\n",
    "print svm_clf.support_vectors_.shape\n",
    "print svm_clf.support_.shape\n",
    "print svm_clf.n_support_"
   ]
  },
  {
   "cell_type": "code",
   "execution_count": 30,
   "metadata": {
    "collapsed": false
   },
   "outputs": [
    {
     "name": "stdout",
     "output_type": "stream",
     "text": [
      "<class 'pandas.core.frame.DataFrame'>\n",
      "Int64Index: 1520 entries, 264083 to 295776\n",
      "Data columns (total 39 columns):\n",
      "loan_amnt                  1520 non-null float64\n",
      "funded_amnt                1520 non-null float64\n",
      "funded_amnt_inv            1520 non-null float64\n",
      "int_rate                   1520 non-null float64\n",
      "installment                1520 non-null float64\n",
      "total_pymnt                1520 non-null float64\n",
      "total_pymnt_inv            1520 non-null float64\n",
      "total_rec_prncp            1520 non-null float64\n",
      "total_rec_int              1520 non-null float64\n",
      "total_rec_late_fee         1520 non-null float64\n",
      "recoveries                 1520 non-null float64\n",
      "collection_recovery_fee    1520 non-null float64\n",
      "IsShortTerm                1520 non-null int64\n",
      "grade_A                    1520 non-null float64\n",
      "grade_B                    1520 non-null float64\n",
      "grade_C                    1520 non-null float64\n",
      "grade_D                    1520 non-null float64\n",
      "grade_E                    1520 non-null float64\n",
      "grade_F                    1520 non-null float64\n",
      "grade_G                    1520 non-null float64\n",
      "emp_length_1 year          1520 non-null float64\n",
      "emp_length_10+ years       1520 non-null float64\n",
      "emp_length_2 years         1520 non-null float64\n",
      "emp_length_3 years         1520 non-null float64\n",
      "emp_length_4 years         1520 non-null float64\n",
      "emp_length_5 years         1520 non-null float64\n",
      "emp_length_6 years         1520 non-null float64\n",
      "emp_length_7 years         1520 non-null float64\n",
      "emp_length_8 years         1520 non-null float64\n",
      "emp_length_9 years         1520 non-null float64\n",
      "emp_length_< 1 year        1520 non-null float64\n",
      "emp_length_n/a             1520 non-null float64\n",
      "home_ownership_ANY         1520 non-null float64\n",
      "home_ownership_MORTGAGE    1520 non-null float64\n",
      "home_ownership_NONE        1520 non-null float64\n",
      "home_ownership_OTHER       1520 non-null float64\n",
      "home_ownership_OWN         1520 non-null float64\n",
      "home_ownership_RENT        1520 non-null float64\n",
      "IsLoanStatusGood           1520 non-null int64\n",
      "dtypes: float64(37), int64(2)\n",
      "memory usage: 475.0 KB\n"
     ]
    },
    {
     "name": "stderr",
     "output_type": "stream",
     "text": [
      "/Users/james/anaconda/lib/python2.7/site-packages/ipykernel/__main__.py:3: SettingWithCopyWarning: \n",
      "A value is trying to be set on a copy of a slice from a DataFrame.\n",
      "Try using .loc[row_indexer,col_indexer] = value instead\n",
      "\n",
      "See the caveats in the documentation: http://pandas.pydata.org/pandas-docs/stable/indexing.html#indexing-view-versus-copy\n",
      "  app.launch_new_instance()\n"
     ]
    }
   ],
   "source": [
    "df_tested_on = df_all.iloc[train_indices]\n",
    "df_support = df_tested_on.iloc[svm_clf.support_,:]\n",
    "df_support['IsLoanStatusGood'] = y[svm_clf.support_]\n",
    "df_all['IsLoanStatusGood'] = y\n",
    "df_support.info()"
   ]
  },
  {
   "cell_type": "code",
   "execution_count": 31,
   "metadata": {
    "collapsed": false
   },
   "outputs": [],
   "source": [
    "# We have to replace the zero values with a positive number in order for the plot not to error out\n",
    "df_all.recoveries = df_all.recoveries.replace(0.00, 0.01)\n",
    "df_all.collection_recovery_fee = df_all.collection_recovery_fee.replace(0.00, 0.01)"
   ]
  },
  {
   "cell_type": "code",
   "execution_count": 32,
   "metadata": {
    "collapsed": false
   },
   "outputs": [
    {
     "data": {
      "image/png": "[encoded data removed]",
      "text/plain": [
       "<matplotlib.figure.Figure at 0x11b298c50>"
      ]
     },
     "metadata": {},
     "output_type": "display_data"
    },
    {
     "data": {
      "image/png": "[encoded data removed]",
      "text/plain": [
       "<matplotlib.figure.Figure at 0x11a7a2310>"
      ]
     },
     "metadata": {},
     "output_type": "display_data"
    },
    {
     "data": {
      "image/png": "[encoded data removed]",
      "text/plain": [
       "<matplotlib.figure.Figure at 0x11b407ad0>"
      ]
     },
     "metadata": {},
     "output_type": "display_data"
    },
    {
     "data": {
      "image/png": "[encoded data removed]",
      "text/plain": [
       "<matplotlib.figure.Figure at 0x11b376850>"
      ]
     },
     "metadata": {},
     "output_type": "display_data"
    }
   ],
   "source": [
    "# now lets see the statistics of these attributes\n",
    "from pandas.tools.plotting import boxplot\n",
    "\n",
    "# group the original data and the support vectors\n",
    "df_grouped_support = df_support.groupby(['IsLoanStatusGood'])\n",
    "df_grouped = df_all.groupby(['IsLoanStatusGood'])\n",
    "\n",
    "# plot KDE of Different variables\n",
    "vars_to_plot = ['funded_amnt','funded_amnt_inv','recoveries', 'collection_recovery_fee']\n",
    "\n",
    "for v in vars_to_plot:\n",
    "    plt.figure(figsize=(10,4))\n",
    "    # plot support vector stats\n",
    "    plt.subplot(1,2,1)\n",
    "    ax = df_grouped_support[v].plot.kde() \n",
    "    plt.legend(['Good Loan','Bad Loan'])\n",
    "    plt.title(v+' (Instances chosen as Support Vectors)')\n",
    "    \n",
    "    # plot original distributions\n",
    "    plt.subplot(1,2,2)\n",
    "    ax = df_grouped[v].plot.kde() \n",
    "    plt.legend(['Good Loan','Bad Loan'])\n",
    "    plt.title(v+' (Original)')"
   ]
  },
  {
   "cell_type": "markdown",
   "metadata": {},
   "source": [
    "This analysis shows a side-by-side plot of the statistics of the support vectors compared to the original data. We note for recoveries and collection_recovery_fee, the majority of the values are zero, so the plot looks like it's empty."
   ]
  }
 ],
 "metadata": {
  "kernelspec": {
   "display_name": "Python 2",
   "language": "python",
   "name": "python2"
  },
  "language_info": {
   "codemirror_mode": {
    "name": "ipython",
    "version": 2
   },
   "file_extension": ".py",
   "mimetype": "text/x-python",
   "name": "python",
   "nbconvert_exporter": "python",
   "pygments_lexer": "ipython2",
   "version": "2.7.11"
  }
 },
 "nbformat": 4,
 "nbformat_minor": 0
}
