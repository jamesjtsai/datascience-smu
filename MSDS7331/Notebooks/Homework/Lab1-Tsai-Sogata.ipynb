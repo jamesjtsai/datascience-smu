{
 "cells": [
  {
   "cell_type": "markdown",
   "metadata": {
    "collapsed": false
   },
   "source": [
    "### MSDS7331 Data Mining Homework #1 - Wid Sogata and James Tsai"
   ]
  },
  {
   "cell_type": "markdown",
   "metadata": {},
   "source": [
    "### Data Set Description\n",
    "This data set contains the complete loan data for all Lending Club loans issued through year 2007-2015, including the current loan status (Current, Late, Fully Paid, etc.) and the latest payment information. Each of the entries in the data set is based on the previous completed calendar quarter.\n",
    "\n",
    "### Business Use Case\n",
    "We would like to identify the characteristic(s) of a given borrower that has the most relevance to keeping a loan payment current. The ability to measure this outcome will help reduce the risk to the lender and thus allow the lender to make better informed decisions when deciding whether a loan should be granted.  The following attributes for our analysis are crucial: Purpose of the Loan, Annual Income, Loan Amount, Term, Employment Length, and Interest Rate."
   ]
  },
  {
   "cell_type": "markdown",
   "metadata": {},
   "source": [
    "### Data Attributes - Type and description of each attribute in the data file\n",
    "\n",
    "There are 74 attributes and 887379 records in the data. Many of the attributes have an insignificant amount or single- valued data. We are going to exclude those from the data frame. Also, some of the attributes do not have any relation to the analysis. We are excluding those as well.\n",
    "\n",
    "|Name   |Type   |Description   |% missing   |\n",
    "|---|---|---|---|\n",
    "|loan_amnt   |continuous    |The listed amount of the loan applied for by the borrower. If at some point in time, the credit department reduces the loan amount, then it will be reflected in this value   | 0.0   |\n",
    "|funded_amnt     | continuous | The total amount committed to that loan at that point in time|0.0   |\n",
    "| funded_amnt_inv | continuous | The total amount committed by investors for that loan at that point in time| 0.0   |\n",
    "| term | categorical | The number of payments on the loan. Values are in months and can be either 36 or 60| 0.0   |\n",
    "| int_rate | continuous | Interest Rate on the loan| 0.0   |\n",
    "| installment | continuous | The monthly payment owed by the borrower if the loan originates.| 0.0   |\n",
    "| grade | categorical | LC assigned loan grade| 0.0   |\n",
    "| sub_grade | categorical | LC assigned loan subgrade| 0.0   |\n",
    "| emp_length | continuous | Employment length in years. Possible values are between 0 and 10 where 0 means less than one year and 10 means ten or more years|0.0|\n",
    "| home_ownership | categorical | The home ownership status provided by the borrower during registration. The values are: RENT, OWN, MORTGAGE, OTHER| 0.0 |\n",
    "| annual_inc | continuous | The self reported annual income provided by the borrower during registration| 0.0   |\n",
    "| loan_status | categorical | Current status of the loan| 0.0   |\n",
    "| purpose | categorical | A category provided by the borrower for the loan request| 0.0   |\n",
    "| zip_code | categorical | The first 3 numbers of the zip code provided by the borrower in the loan application.|0.0|\n",
    "| addr_state | categorical | The state provided by the borrower in the loan application| 0.0   |\n",
    "| dti | continuous | A ratio calculated using the borrower’s total monthly debt payments on the total debt obligations, excluding mortgage and the requested LC loan, divided by the borrower’s self reported monthly income| 0.0|\n",
    "| delinq_2yrs | continuous | The number of 30+ days past due incidences of delinquency in the borrower's credit file for the past 2 years| 0.0   |\n",
    "| open_acc | continuous | The number of open credit lines in the borrower's credit file| 0.0   |\n",
    "| pub_rec | continuous | Number of derogatory public records| 0.0   |\n",
    "| revol_bal | continuous | Total credit revolving balance| 0.0   |\n",
    "| revol_util | continuous | Revolving line utilization rate, or the amount of credit the borrower is using relative to all available revolving credit | 0.06%|\n",
    "| total_acc | continuous | The total number of credit lines currently in the borrower's credit file| 0.0   |\n",
    "| total_pymnt | continuous | Payments received to date for total amount funded| 0.0   |\n",
    "| total_pymnt_inv | continuous | Payments received to date for portion of total amount funded by investors| 0.0   |\n",
    "| total_rec_prncp | continuous | Principal received to date| 0.0   |\n",
    "| total_rec_int | continuous | Interest received to date| 0.0   |\n",
    "| total_rec_late_fee | continuous | Late fees received to date| 0.0   |"
   ]
  },
  {
   "cell_type": "markdown",
   "metadata": {},
   "source": [
    "### Libraries - Import all relevant Python libraries needed for analysis and visualizations"
   ]
  },
  {
   "cell_type": "code",
   "execution_count": 1,
   "metadata": {
    "collapsed": false
   },
   "outputs": [],
   "source": [
    "import pandas as pd\n",
    "import seaborn as sb\n",
    "import numpy as np\n",
    "import matplotlib.pyplot as plt\n",
    "import warnings\n",
    "import plotly.plotly as py\n",
    "py.sign_in('wsogata', 'qv1rb49pn3')\n",
    "warnings.simplefilter('ignore', DeprecationWarning)\n",
    "%matplotlib inline\n",
    "from os.path import expanduser\n",
    "from IPython.display import Image"
   ]
  },
  {
   "cell_type": "markdown",
   "metadata": {},
   "source": [
    "### Data File"
   ]
  },
  {
   "cell_type": "markdown",
   "metadata": {},
   "source": [
    "Check that we have the loan file and perform basic line count"
   ]
  },
  {
   "cell_type": "code",
   "execution_count": 2,
   "metadata": {
    "collapsed": false
   },
   "outputs": [
    {
     "name": "stdout",
     "output_type": "stream",
     "text": [
      "-rwxr-xr-x@ 1 james  staff  441771600 May 27 15:10 \u001b[31mdata/loan.csv\u001b[m\u001b[m\n",
      "  887380 data/loan.csv\n"
     ]
    }
   ],
   "source": [
    "!ls -l data/loan.csv\n",
    "!wc -l data/loan.csv"
   ]
  },
  {
   "cell_type": "markdown",
   "metadata": {},
   "source": [
    "### Data Frame - Load the data file into a DataFrame object"
   ]
  },
  {
   "cell_type": "code",
   "execution_count": 3,
   "metadata": {
    "collapsed": false
   },
   "outputs": [],
   "source": [
    "home = expanduser('~')\n",
    "data_dir = home + '/Dropbox/Personal/Jupyter/Notebooks/DataScience-SMU/MSDS7331-Data-Mining/Homework/data/'\n",
    "filename = 'loan.csv'\n",
    "df = pd.read_csv(data_dir + filename, low_memory=False)"
   ]
  },
  {
   "cell_type": "markdown",
   "metadata": {},
   "source": [
    "### Data Quality - Review the attributes are parsed correctly, identify missing values, etc."
   ]
  },
  {
   "cell_type": "markdown",
   "metadata": {},
   "source": [
    "Display first 10 rows of DataFrame object."
   ]
  },
  {
   "cell_type": "code",
   "execution_count": 4,
   "metadata": {
    "collapsed": false
   },
   "outputs": [
    {
     "data": {
      "text/html": [
       "<div>\n",
       "<table border=\"1\" class=\"dataframe\">\n",
       "  <thead>\n",
       "    <tr style=\"text-align: right;\">\n",
       "      <th></th>\n",
       "      <th>id</th>\n",
       "      <th>member_id</th>\n",
       "      <th>loan_amnt</th>\n",
       "      <th>funded_amnt</th>\n",
       "      <th>funded_amnt_inv</th>\n",
       "      <th>term</th>\n",
       "      <th>int_rate</th>\n",
       "      <th>installment</th>\n",
       "      <th>grade</th>\n",
       "      <th>sub_grade</th>\n",
       "      <th>...</th>\n",
       "      <th>total_bal_il</th>\n",
       "      <th>il_util</th>\n",
       "      <th>open_rv_12m</th>\n",
       "      <th>open_rv_24m</th>\n",
       "      <th>max_bal_bc</th>\n",
       "      <th>all_util</th>\n",
       "      <th>total_rev_hi_lim</th>\n",
       "      <th>inq_fi</th>\n",
       "      <th>total_cu_tl</th>\n",
       "      <th>inq_last_12m</th>\n",
       "    </tr>\n",
       "  </thead>\n",
       "  <tbody>\n",
       "    <tr>\n",
       "      <th>0</th>\n",
       "      <td>1077501</td>\n",
       "      <td>1296599</td>\n",
       "      <td>5000.0</td>\n",
       "      <td>5000.0</td>\n",
       "      <td>4975.0</td>\n",
       "      <td>36 months</td>\n",
       "      <td>10.65</td>\n",
       "      <td>162.87</td>\n",
       "      <td>B</td>\n",
       "      <td>B2</td>\n",
       "      <td>...</td>\n",
       "      <td>NaN</td>\n",
       "      <td>NaN</td>\n",
       "      <td>NaN</td>\n",
       "      <td>NaN</td>\n",
       "      <td>NaN</td>\n",
       "      <td>NaN</td>\n",
       "      <td>NaN</td>\n",
       "      <td>NaN</td>\n",
       "      <td>NaN</td>\n",
       "      <td>NaN</td>\n",
       "    </tr>\n",
       "    <tr>\n",
       "      <th>1</th>\n",
       "      <td>1077430</td>\n",
       "      <td>1314167</td>\n",
       "      <td>2500.0</td>\n",
       "      <td>2500.0</td>\n",
       "      <td>2500.0</td>\n",
       "      <td>60 months</td>\n",
       "      <td>15.27</td>\n",
       "      <td>59.83</td>\n",
       "      <td>C</td>\n",
       "      <td>C4</td>\n",
       "      <td>...</td>\n",
       "      <td>NaN</td>\n",
       "      <td>NaN</td>\n",
       "      <td>NaN</td>\n",
       "      <td>NaN</td>\n",
       "      <td>NaN</td>\n",
       "      <td>NaN</td>\n",
       "      <td>NaN</td>\n",
       "      <td>NaN</td>\n",
       "      <td>NaN</td>\n",
       "      <td>NaN</td>\n",
       "    </tr>\n",
       "    <tr>\n",
       "      <th>2</th>\n",
       "      <td>1077175</td>\n",
       "      <td>1313524</td>\n",
       "      <td>2400.0</td>\n",
       "      <td>2400.0</td>\n",
       "      <td>2400.0</td>\n",
       "      <td>36 months</td>\n",
       "      <td>15.96</td>\n",
       "      <td>84.33</td>\n",
       "      <td>C</td>\n",
       "      <td>C5</td>\n",
       "      <td>...</td>\n",
       "      <td>NaN</td>\n",
       "      <td>NaN</td>\n",
       "      <td>NaN</td>\n",
       "      <td>NaN</td>\n",
       "      <td>NaN</td>\n",
       "      <td>NaN</td>\n",
       "      <td>NaN</td>\n",
       "      <td>NaN</td>\n",
       "      <td>NaN</td>\n",
       "      <td>NaN</td>\n",
       "    </tr>\n",
       "    <tr>\n",
       "      <th>3</th>\n",
       "      <td>1076863</td>\n",
       "      <td>1277178</td>\n",
       "      <td>10000.0</td>\n",
       "      <td>10000.0</td>\n",
       "      <td>10000.0</td>\n",
       "      <td>36 months</td>\n",
       "      <td>13.49</td>\n",
       "      <td>339.31</td>\n",
       "      <td>C</td>\n",
       "      <td>C1</td>\n",
       "      <td>...</td>\n",
       "      <td>NaN</td>\n",
       "      <td>NaN</td>\n",
       "      <td>NaN</td>\n",
       "      <td>NaN</td>\n",
       "      <td>NaN</td>\n",
       "      <td>NaN</td>\n",
       "      <td>NaN</td>\n",
       "      <td>NaN</td>\n",
       "      <td>NaN</td>\n",
       "      <td>NaN</td>\n",
       "    </tr>\n",
       "    <tr>\n",
       "      <th>4</th>\n",
       "      <td>1075358</td>\n",
       "      <td>1311748</td>\n",
       "      <td>3000.0</td>\n",
       "      <td>3000.0</td>\n",
       "      <td>3000.0</td>\n",
       "      <td>60 months</td>\n",
       "      <td>12.69</td>\n",
       "      <td>67.79</td>\n",
       "      <td>B</td>\n",
       "      <td>B5</td>\n",
       "      <td>...</td>\n",
       "      <td>NaN</td>\n",
       "      <td>NaN</td>\n",
       "      <td>NaN</td>\n",
       "      <td>NaN</td>\n",
       "      <td>NaN</td>\n",
       "      <td>NaN</td>\n",
       "      <td>NaN</td>\n",
       "      <td>NaN</td>\n",
       "      <td>NaN</td>\n",
       "      <td>NaN</td>\n",
       "    </tr>\n",
       "    <tr>\n",
       "      <th>5</th>\n",
       "      <td>1075269</td>\n",
       "      <td>1311441</td>\n",
       "      <td>5000.0</td>\n",
       "      <td>5000.0</td>\n",
       "      <td>5000.0</td>\n",
       "      <td>36 months</td>\n",
       "      <td>7.90</td>\n",
       "      <td>156.46</td>\n",
       "      <td>A</td>\n",
       "      <td>A4</td>\n",
       "      <td>...</td>\n",
       "      <td>NaN</td>\n",
       "      <td>NaN</td>\n",
       "      <td>NaN</td>\n",
       "      <td>NaN</td>\n",
       "      <td>NaN</td>\n",
       "      <td>NaN</td>\n",
       "      <td>NaN</td>\n",
       "      <td>NaN</td>\n",
       "      <td>NaN</td>\n",
       "      <td>NaN</td>\n",
       "    </tr>\n",
       "    <tr>\n",
       "      <th>6</th>\n",
       "      <td>1069639</td>\n",
       "      <td>1304742</td>\n",
       "      <td>7000.0</td>\n",
       "      <td>7000.0</td>\n",
       "      <td>7000.0</td>\n",
       "      <td>60 months</td>\n",
       "      <td>15.96</td>\n",
       "      <td>170.08</td>\n",
       "      <td>C</td>\n",
       "      <td>C5</td>\n",
       "      <td>...</td>\n",
       "      <td>NaN</td>\n",
       "      <td>NaN</td>\n",
       "      <td>NaN</td>\n",
       "      <td>NaN</td>\n",
       "      <td>NaN</td>\n",
       "      <td>NaN</td>\n",
       "      <td>NaN</td>\n",
       "      <td>NaN</td>\n",
       "      <td>NaN</td>\n",
       "      <td>NaN</td>\n",
       "    </tr>\n",
       "    <tr>\n",
       "      <th>7</th>\n",
       "      <td>1072053</td>\n",
       "      <td>1288686</td>\n",
       "      <td>3000.0</td>\n",
       "      <td>3000.0</td>\n",
       "      <td>3000.0</td>\n",
       "      <td>36 months</td>\n",
       "      <td>18.64</td>\n",
       "      <td>109.43</td>\n",
       "      <td>E</td>\n",
       "      <td>E1</td>\n",
       "      <td>...</td>\n",
       "      <td>NaN</td>\n",
       "      <td>NaN</td>\n",
       "      <td>NaN</td>\n",
       "      <td>NaN</td>\n",
       "      <td>NaN</td>\n",
       "      <td>NaN</td>\n",
       "      <td>NaN</td>\n",
       "      <td>NaN</td>\n",
       "      <td>NaN</td>\n",
       "      <td>NaN</td>\n",
       "    </tr>\n",
       "    <tr>\n",
       "      <th>8</th>\n",
       "      <td>1071795</td>\n",
       "      <td>1306957</td>\n",
       "      <td>5600.0</td>\n",
       "      <td>5600.0</td>\n",
       "      <td>5600.0</td>\n",
       "      <td>60 months</td>\n",
       "      <td>21.28</td>\n",
       "      <td>152.39</td>\n",
       "      <td>F</td>\n",
       "      <td>F2</td>\n",
       "      <td>...</td>\n",
       "      <td>NaN</td>\n",
       "      <td>NaN</td>\n",
       "      <td>NaN</td>\n",
       "      <td>NaN</td>\n",
       "      <td>NaN</td>\n",
       "      <td>NaN</td>\n",
       "      <td>NaN</td>\n",
       "      <td>NaN</td>\n",
       "      <td>NaN</td>\n",
       "      <td>NaN</td>\n",
       "    </tr>\n",
       "    <tr>\n",
       "      <th>9</th>\n",
       "      <td>1071570</td>\n",
       "      <td>1306721</td>\n",
       "      <td>5375.0</td>\n",
       "      <td>5375.0</td>\n",
       "      <td>5350.0</td>\n",
       "      <td>60 months</td>\n",
       "      <td>12.69</td>\n",
       "      <td>121.45</td>\n",
       "      <td>B</td>\n",
       "      <td>B5</td>\n",
       "      <td>...</td>\n",
       "      <td>NaN</td>\n",
       "      <td>NaN</td>\n",
       "      <td>NaN</td>\n",
       "      <td>NaN</td>\n",
       "      <td>NaN</td>\n",
       "      <td>NaN</td>\n",
       "      <td>NaN</td>\n",
       "      <td>NaN</td>\n",
       "      <td>NaN</td>\n",
       "      <td>NaN</td>\n",
       "    </tr>\n",
       "  </tbody>\n",
       "</table>\n",
       "<p>10 rows × 74 columns</p>\n",
       "</div>"
      ],
      "text/plain": [
       "        id  member_id  loan_amnt  funded_amnt  funded_amnt_inv        term  \\\n",
       "0  1077501    1296599     5000.0       5000.0           4975.0   36 months   \n",
       "1  1077430    1314167     2500.0       2500.0           2500.0   60 months   \n",
       "2  1077175    1313524     2400.0       2400.0           2400.0   36 months   \n",
       "3  1076863    1277178    10000.0      10000.0          10000.0   36 months   \n",
       "4  1075358    1311748     3000.0       3000.0           3000.0   60 months   \n",
       "5  1075269    1311441     5000.0       5000.0           5000.0   36 months   \n",
       "6  1069639    1304742     7000.0       7000.0           7000.0   60 months   \n",
       "7  1072053    1288686     3000.0       3000.0           3000.0   36 months   \n",
       "8  1071795    1306957     5600.0       5600.0           5600.0   60 months   \n",
       "9  1071570    1306721     5375.0       5375.0           5350.0   60 months   \n",
       "\n",
       "   int_rate  installment grade sub_grade     ...      total_bal_il il_util  \\\n",
       "0     10.65       162.87     B        B2     ...               NaN     NaN   \n",
       "1     15.27        59.83     C        C4     ...               NaN     NaN   \n",
       "2     15.96        84.33     C        C5     ...               NaN     NaN   \n",
       "3     13.49       339.31     C        C1     ...               NaN     NaN   \n",
       "4     12.69        67.79     B        B5     ...               NaN     NaN   \n",
       "5      7.90       156.46     A        A4     ...               NaN     NaN   \n",
       "6     15.96       170.08     C        C5     ...               NaN     NaN   \n",
       "7     18.64       109.43     E        E1     ...               NaN     NaN   \n",
       "8     21.28       152.39     F        F2     ...               NaN     NaN   \n",
       "9     12.69       121.45     B        B5     ...               NaN     NaN   \n",
       "\n",
       "  open_rv_12m  open_rv_24m max_bal_bc all_util total_rev_hi_lim inq_fi  \\\n",
       "0         NaN          NaN        NaN      NaN              NaN    NaN   \n",
       "1         NaN          NaN        NaN      NaN              NaN    NaN   \n",
       "2         NaN          NaN        NaN      NaN              NaN    NaN   \n",
       "3         NaN          NaN        NaN      NaN              NaN    NaN   \n",
       "4         NaN          NaN        NaN      NaN              NaN    NaN   \n",
       "5         NaN          NaN        NaN      NaN              NaN    NaN   \n",
       "6         NaN          NaN        NaN      NaN              NaN    NaN   \n",
       "7         NaN          NaN        NaN      NaN              NaN    NaN   \n",
       "8         NaN          NaN        NaN      NaN              NaN    NaN   \n",
       "9         NaN          NaN        NaN      NaN              NaN    NaN   \n",
       "\n",
       "  total_cu_tl inq_last_12m  \n",
       "0         NaN          NaN  \n",
       "1         NaN          NaN  \n",
       "2         NaN          NaN  \n",
       "3         NaN          NaN  \n",
       "4         NaN          NaN  \n",
       "5         NaN          NaN  \n",
       "6         NaN          NaN  \n",
       "7         NaN          NaN  \n",
       "8         NaN          NaN  \n",
       "9         NaN          NaN  \n",
       "\n",
       "[10 rows x 74 columns]"
      ]
     },
     "execution_count": 4,
     "metadata": {},
     "output_type": "execute_result"
    }
   ],
   "source": [
    "df.head(n=10)"
   ]
  },
  {
   "cell_type": "markdown",
   "metadata": {},
   "source": [
    "Display a summary of the counts and attribute types."
   ]
  },
  {
   "cell_type": "code",
   "execution_count": 5,
   "metadata": {
    "collapsed": false
   },
   "outputs": [
    {
     "name": "stdout",
     "output_type": "stream",
     "text": [
      "<class 'pandas.core.frame.DataFrame'>\n",
      "RangeIndex: 887379 entries, 0 to 887378\n",
      "Data columns (total 74 columns):\n",
      "id                             887379 non-null int64\n",
      "member_id                      887379 non-null int64\n",
      "loan_amnt                      887379 non-null float64\n",
      "funded_amnt                    887379 non-null float64\n",
      "funded_amnt_inv                887379 non-null float64\n",
      "term                           887379 non-null object\n",
      "int_rate                       887379 non-null float64\n",
      "installment                    887379 non-null float64\n",
      "grade                          887379 non-null object\n",
      "sub_grade                      887379 non-null object\n",
      "emp_title                      835922 non-null object\n",
      "emp_length                     887379 non-null object\n",
      "home_ownership                 887379 non-null object\n",
      "annual_inc                     887375 non-null float64\n",
      "verification_status            887379 non-null object\n",
      "issue_d                        887379 non-null object\n",
      "loan_status                    887379 non-null object\n",
      "pymnt_plan                     887379 non-null object\n",
      "url                            887379 non-null object\n",
      "desc                           126029 non-null object\n",
      "purpose                        887379 non-null object\n",
      "title                          887228 non-null object\n",
      "zip_code                       887379 non-null object\n",
      "addr_state                     887379 non-null object\n",
      "dti                            887379 non-null float64\n",
      "delinq_2yrs                    887350 non-null float64\n",
      "earliest_cr_line               887350 non-null object\n",
      "inq_last_6mths                 887350 non-null float64\n",
      "mths_since_last_delinq         433067 non-null float64\n",
      "mths_since_last_record         137053 non-null float64\n",
      "open_acc                       887350 non-null float64\n",
      "pub_rec                        887350 non-null float64\n",
      "revol_bal                      887379 non-null float64\n",
      "revol_util                     886877 non-null float64\n",
      "total_acc                      887350 non-null float64\n",
      "initial_list_status            887379 non-null object\n",
      "out_prncp                      887379 non-null float64\n",
      "out_prncp_inv                  887379 non-null float64\n",
      "total_pymnt                    887379 non-null float64\n",
      "total_pymnt_inv                887379 non-null float64\n",
      "total_rec_prncp                887379 non-null float64\n",
      "total_rec_int                  887379 non-null float64\n",
      "total_rec_late_fee             887379 non-null float64\n",
      "recoveries                     887379 non-null float64\n",
      "collection_recovery_fee        887379 non-null float64\n",
      "last_pymnt_d                   869720 non-null object\n",
      "last_pymnt_amnt                887379 non-null float64\n",
      "next_pymnt_d                   634408 non-null object\n",
      "last_credit_pull_d             887326 non-null object\n",
      "collections_12_mths_ex_med     887234 non-null float64\n",
      "mths_since_last_major_derog    221703 non-null float64\n",
      "policy_code                    887379 non-null float64\n",
      "application_type               887379 non-null object\n",
      "annual_inc_joint               511 non-null float64\n",
      "dti_joint                      509 non-null float64\n",
      "verification_status_joint      511 non-null object\n",
      "acc_now_delinq                 887350 non-null float64\n",
      "tot_coll_amt                   817103 non-null float64\n",
      "tot_cur_bal                    817103 non-null float64\n",
      "open_acc_6m                    21372 non-null float64\n",
      "open_il_6m                     21372 non-null float64\n",
      "open_il_12m                    21372 non-null float64\n",
      "open_il_24m                    21372 non-null float64\n",
      "mths_since_rcnt_il             20810 non-null float64\n",
      "total_bal_il                   21372 non-null float64\n",
      "il_util                        18617 non-null float64\n",
      "open_rv_12m                    21372 non-null float64\n",
      "open_rv_24m                    21372 non-null float64\n",
      "max_bal_bc                     21372 non-null float64\n",
      "all_util                       21372 non-null float64\n",
      "total_rev_hi_lim               817103 non-null float64\n",
      "inq_fi                         21372 non-null float64\n",
      "total_cu_tl                    21372 non-null float64\n",
      "inq_last_12m                   21372 non-null float64\n",
      "dtypes: float64(49), int64(2), object(23)\n",
      "memory usage: 501.0+ MB\n"
     ]
    }
   ],
   "source": [
    "df.info()"
   ]
  },
  {
   "cell_type": "markdown",
   "metadata": {},
   "source": [
    "Drop the attributes that are not applicable for visual data analysis such as member ids, and attributes that have insignificant amount or single value data."
   ]
  },
  {
   "cell_type": "code",
   "execution_count": 6,
   "metadata": {
    "collapsed": false
   },
   "outputs": [],
   "source": [
    "df.drop(['id',\n",
    "         'member_id',\n",
    "         'verification_status',\n",
    "         'issue_d',\n",
    "         'pymnt_plan',\n",
    "         'url',\n",
    "         'desc',\n",
    "         'title',\n",
    "         'earliest_cr_line',\n",
    "         'emp_title',\n",
    "         'inq_last_6mths',\n",
    "         'initial_list_status',\n",
    "         'out_prncp',\n",
    "         'out_prncp_inv',\n",
    "         'last_pymnt_d',\n",
    "         'last_pymnt_amnt', \n",
    "         'next_pymnt_d',\n",
    "         'last_credit_pull_d',\n",
    "         'collections_12_mths_ex_med',\n",
    "         'mths_since_last_delinq',\n",
    "         'mths_since_last_record',\n",
    "         'mths_since_last_major_derog',\n",
    "         'policy_code',\n",
    "         'application_type',\n",
    "         'annual_inc_joint',\n",
    "         'annual_inc_joint',\n",
    "         'dti_joint',\n",
    "         'verification_status_joint',\n",
    "         'acc_now_delinq',\n",
    "         'tot_coll_amt',\n",
    "         'tot_cur_bal',\n",
    "         'open_acc_6m',     \n",
    "         'open_il_6m',\n",
    "         'open_il_12m',\n",
    "         'open_il_24m',\n",
    "         'mths_since_rcnt_il',\n",
    "         'total_bal_il',\n",
    "         'il_util',\n",
    "         'open_rv_12m',\n",
    "         'open_rv_24m',\n",
    "         'max_bal_bc',\n",
    "         'all_util',\n",
    "         'total_rev_hi_lim',\n",
    "         'inq_fi',\n",
    "         'total_cu_tl',\n",
    "         'inq_last_12m'], axis =1, inplace=True)"
   ]
  },
  {
   "cell_type": "markdown",
   "metadata": {},
   "source": [
    "Display first 10 rows of DataFrame object after dropping unused attributes."
   ]
  },
  {
   "cell_type": "code",
   "execution_count": 7,
   "metadata": {
    "collapsed": false
   },
   "outputs": [
    {
     "data": {
      "text/html": [
       "<div>\n",
       "<table border=\"1\" class=\"dataframe\">\n",
       "  <thead>\n",
       "    <tr style=\"text-align: right;\">\n",
       "      <th></th>\n",
       "      <th>loan_amnt</th>\n",
       "      <th>funded_amnt</th>\n",
       "      <th>funded_amnt_inv</th>\n",
       "      <th>term</th>\n",
       "      <th>int_rate</th>\n",
       "      <th>installment</th>\n",
       "      <th>grade</th>\n",
       "      <th>sub_grade</th>\n",
       "      <th>emp_length</th>\n",
       "      <th>home_ownership</th>\n",
       "      <th>...</th>\n",
       "      <th>revol_bal</th>\n",
       "      <th>revol_util</th>\n",
       "      <th>total_acc</th>\n",
       "      <th>total_pymnt</th>\n",
       "      <th>total_pymnt_inv</th>\n",
       "      <th>total_rec_prncp</th>\n",
       "      <th>total_rec_int</th>\n",
       "      <th>total_rec_late_fee</th>\n",
       "      <th>recoveries</th>\n",
       "      <th>collection_recovery_fee</th>\n",
       "    </tr>\n",
       "  </thead>\n",
       "  <tbody>\n",
       "    <tr>\n",
       "      <th>0</th>\n",
       "      <td>5000.0</td>\n",
       "      <td>5000.0</td>\n",
       "      <td>4975.0</td>\n",
       "      <td>36 months</td>\n",
       "      <td>10.65</td>\n",
       "      <td>162.87</td>\n",
       "      <td>B</td>\n",
       "      <td>B2</td>\n",
       "      <td>10+ years</td>\n",
       "      <td>RENT</td>\n",
       "      <td>...</td>\n",
       "      <td>13648.0</td>\n",
       "      <td>83.7</td>\n",
       "      <td>9.0</td>\n",
       "      <td>5861.071414</td>\n",
       "      <td>5831.78</td>\n",
       "      <td>5000.00</td>\n",
       "      <td>861.07</td>\n",
       "      <td>0.00</td>\n",
       "      <td>0.00</td>\n",
       "      <td>0.00</td>\n",
       "    </tr>\n",
       "    <tr>\n",
       "      <th>1</th>\n",
       "      <td>2500.0</td>\n",
       "      <td>2500.0</td>\n",
       "      <td>2500.0</td>\n",
       "      <td>60 months</td>\n",
       "      <td>15.27</td>\n",
       "      <td>59.83</td>\n",
       "      <td>C</td>\n",
       "      <td>C4</td>\n",
       "      <td>&lt; 1 year</td>\n",
       "      <td>RENT</td>\n",
       "      <td>...</td>\n",
       "      <td>1687.0</td>\n",
       "      <td>9.4</td>\n",
       "      <td>4.0</td>\n",
       "      <td>1008.710000</td>\n",
       "      <td>1008.71</td>\n",
       "      <td>456.46</td>\n",
       "      <td>435.17</td>\n",
       "      <td>0.00</td>\n",
       "      <td>117.08</td>\n",
       "      <td>1.11</td>\n",
       "    </tr>\n",
       "    <tr>\n",
       "      <th>2</th>\n",
       "      <td>2400.0</td>\n",
       "      <td>2400.0</td>\n",
       "      <td>2400.0</td>\n",
       "      <td>36 months</td>\n",
       "      <td>15.96</td>\n",
       "      <td>84.33</td>\n",
       "      <td>C</td>\n",
       "      <td>C5</td>\n",
       "      <td>10+ years</td>\n",
       "      <td>RENT</td>\n",
       "      <td>...</td>\n",
       "      <td>2956.0</td>\n",
       "      <td>98.5</td>\n",
       "      <td>10.0</td>\n",
       "      <td>3003.653644</td>\n",
       "      <td>3003.65</td>\n",
       "      <td>2400.00</td>\n",
       "      <td>603.65</td>\n",
       "      <td>0.00</td>\n",
       "      <td>0.00</td>\n",
       "      <td>0.00</td>\n",
       "    </tr>\n",
       "    <tr>\n",
       "      <th>3</th>\n",
       "      <td>10000.0</td>\n",
       "      <td>10000.0</td>\n",
       "      <td>10000.0</td>\n",
       "      <td>36 months</td>\n",
       "      <td>13.49</td>\n",
       "      <td>339.31</td>\n",
       "      <td>C</td>\n",
       "      <td>C1</td>\n",
       "      <td>10+ years</td>\n",
       "      <td>RENT</td>\n",
       "      <td>...</td>\n",
       "      <td>5598.0</td>\n",
       "      <td>21.0</td>\n",
       "      <td>37.0</td>\n",
       "      <td>12226.302212</td>\n",
       "      <td>12226.30</td>\n",
       "      <td>10000.00</td>\n",
       "      <td>2209.33</td>\n",
       "      <td>16.97</td>\n",
       "      <td>0.00</td>\n",
       "      <td>0.00</td>\n",
       "    </tr>\n",
       "    <tr>\n",
       "      <th>4</th>\n",
       "      <td>3000.0</td>\n",
       "      <td>3000.0</td>\n",
       "      <td>3000.0</td>\n",
       "      <td>60 months</td>\n",
       "      <td>12.69</td>\n",
       "      <td>67.79</td>\n",
       "      <td>B</td>\n",
       "      <td>B5</td>\n",
       "      <td>1 year</td>\n",
       "      <td>RENT</td>\n",
       "      <td>...</td>\n",
       "      <td>27783.0</td>\n",
       "      <td>53.9</td>\n",
       "      <td>38.0</td>\n",
       "      <td>3242.170000</td>\n",
       "      <td>3242.17</td>\n",
       "      <td>2233.10</td>\n",
       "      <td>1009.07</td>\n",
       "      <td>0.00</td>\n",
       "      <td>0.00</td>\n",
       "      <td>0.00</td>\n",
       "    </tr>\n",
       "    <tr>\n",
       "      <th>5</th>\n",
       "      <td>5000.0</td>\n",
       "      <td>5000.0</td>\n",
       "      <td>5000.0</td>\n",
       "      <td>36 months</td>\n",
       "      <td>7.90</td>\n",
       "      <td>156.46</td>\n",
       "      <td>A</td>\n",
       "      <td>A4</td>\n",
       "      <td>3 years</td>\n",
       "      <td>RENT</td>\n",
       "      <td>...</td>\n",
       "      <td>7963.0</td>\n",
       "      <td>28.3</td>\n",
       "      <td>12.0</td>\n",
       "      <td>5631.377753</td>\n",
       "      <td>5631.38</td>\n",
       "      <td>5000.00</td>\n",
       "      <td>631.38</td>\n",
       "      <td>0.00</td>\n",
       "      <td>0.00</td>\n",
       "      <td>0.00</td>\n",
       "    </tr>\n",
       "    <tr>\n",
       "      <th>6</th>\n",
       "      <td>7000.0</td>\n",
       "      <td>7000.0</td>\n",
       "      <td>7000.0</td>\n",
       "      <td>60 months</td>\n",
       "      <td>15.96</td>\n",
       "      <td>170.08</td>\n",
       "      <td>C</td>\n",
       "      <td>C5</td>\n",
       "      <td>8 years</td>\n",
       "      <td>RENT</td>\n",
       "      <td>...</td>\n",
       "      <td>17726.0</td>\n",
       "      <td>85.6</td>\n",
       "      <td>11.0</td>\n",
       "      <td>8136.840000</td>\n",
       "      <td>8136.84</td>\n",
       "      <td>5110.85</td>\n",
       "      <td>3025.99</td>\n",
       "      <td>0.00</td>\n",
       "      <td>0.00</td>\n",
       "      <td>0.00</td>\n",
       "    </tr>\n",
       "    <tr>\n",
       "      <th>7</th>\n",
       "      <td>3000.0</td>\n",
       "      <td>3000.0</td>\n",
       "      <td>3000.0</td>\n",
       "      <td>36 months</td>\n",
       "      <td>18.64</td>\n",
       "      <td>109.43</td>\n",
       "      <td>E</td>\n",
       "      <td>E1</td>\n",
       "      <td>9 years</td>\n",
       "      <td>RENT</td>\n",
       "      <td>...</td>\n",
       "      <td>8221.0</td>\n",
       "      <td>87.5</td>\n",
       "      <td>4.0</td>\n",
       "      <td>3938.144334</td>\n",
       "      <td>3938.14</td>\n",
       "      <td>3000.00</td>\n",
       "      <td>938.14</td>\n",
       "      <td>0.00</td>\n",
       "      <td>0.00</td>\n",
       "      <td>0.00</td>\n",
       "    </tr>\n",
       "    <tr>\n",
       "      <th>8</th>\n",
       "      <td>5600.0</td>\n",
       "      <td>5600.0</td>\n",
       "      <td>5600.0</td>\n",
       "      <td>60 months</td>\n",
       "      <td>21.28</td>\n",
       "      <td>152.39</td>\n",
       "      <td>F</td>\n",
       "      <td>F2</td>\n",
       "      <td>4 years</td>\n",
       "      <td>OWN</td>\n",
       "      <td>...</td>\n",
       "      <td>5210.0</td>\n",
       "      <td>32.6</td>\n",
       "      <td>13.0</td>\n",
       "      <td>646.020000</td>\n",
       "      <td>646.02</td>\n",
       "      <td>162.02</td>\n",
       "      <td>294.94</td>\n",
       "      <td>0.00</td>\n",
       "      <td>189.06</td>\n",
       "      <td>2.09</td>\n",
       "    </tr>\n",
       "    <tr>\n",
       "      <th>9</th>\n",
       "      <td>5375.0</td>\n",
       "      <td>5375.0</td>\n",
       "      <td>5350.0</td>\n",
       "      <td>60 months</td>\n",
       "      <td>12.69</td>\n",
       "      <td>121.45</td>\n",
       "      <td>B</td>\n",
       "      <td>B5</td>\n",
       "      <td>&lt; 1 year</td>\n",
       "      <td>RENT</td>\n",
       "      <td>...</td>\n",
       "      <td>9279.0</td>\n",
       "      <td>36.5</td>\n",
       "      <td>3.0</td>\n",
       "      <td>1476.190000</td>\n",
       "      <td>1469.34</td>\n",
       "      <td>673.48</td>\n",
       "      <td>533.42</td>\n",
       "      <td>0.00</td>\n",
       "      <td>269.29</td>\n",
       "      <td>2.52</td>\n",
       "    </tr>\n",
       "  </tbody>\n",
       "</table>\n",
       "<p>10 rows × 29 columns</p>\n",
       "</div>"
      ],
      "text/plain": [
       "   loan_amnt  funded_amnt  funded_amnt_inv        term  int_rate  installment  \\\n",
       "0     5000.0       5000.0           4975.0   36 months     10.65       162.87   \n",
       "1     2500.0       2500.0           2500.0   60 months     15.27        59.83   \n",
       "2     2400.0       2400.0           2400.0   36 months     15.96        84.33   \n",
       "3    10000.0      10000.0          10000.0   36 months     13.49       339.31   \n",
       "4     3000.0       3000.0           3000.0   60 months     12.69        67.79   \n",
       "5     5000.0       5000.0           5000.0   36 months      7.90       156.46   \n",
       "6     7000.0       7000.0           7000.0   60 months     15.96       170.08   \n",
       "7     3000.0       3000.0           3000.0   36 months     18.64       109.43   \n",
       "8     5600.0       5600.0           5600.0   60 months     21.28       152.39   \n",
       "9     5375.0       5375.0           5350.0   60 months     12.69       121.45   \n",
       "\n",
       "  grade sub_grade emp_length home_ownership           ...             \\\n",
       "0     B        B2  10+ years           RENT           ...              \n",
       "1     C        C4   < 1 year           RENT           ...              \n",
       "2     C        C5  10+ years           RENT           ...              \n",
       "3     C        C1  10+ years           RENT           ...              \n",
       "4     B        B5     1 year           RENT           ...              \n",
       "5     A        A4    3 years           RENT           ...              \n",
       "6     C        C5    8 years           RENT           ...              \n",
       "7     E        E1    9 years           RENT           ...              \n",
       "8     F        F2    4 years            OWN           ...              \n",
       "9     B        B5   < 1 year           RENT           ...              \n",
       "\n",
       "   revol_bal revol_util total_acc   total_pymnt total_pymnt_inv  \\\n",
       "0    13648.0       83.7       9.0   5861.071414         5831.78   \n",
       "1     1687.0        9.4       4.0   1008.710000         1008.71   \n",
       "2     2956.0       98.5      10.0   3003.653644         3003.65   \n",
       "3     5598.0       21.0      37.0  12226.302212        12226.30   \n",
       "4    27783.0       53.9      38.0   3242.170000         3242.17   \n",
       "5     7963.0       28.3      12.0   5631.377753         5631.38   \n",
       "6    17726.0       85.6      11.0   8136.840000         8136.84   \n",
       "7     8221.0       87.5       4.0   3938.144334         3938.14   \n",
       "8     5210.0       32.6      13.0    646.020000          646.02   \n",
       "9     9279.0       36.5       3.0   1476.190000         1469.34   \n",
       "\n",
       "   total_rec_prncp  total_rec_int  total_rec_late_fee  recoveries  \\\n",
       "0          5000.00         861.07                0.00        0.00   \n",
       "1           456.46         435.17                0.00      117.08   \n",
       "2          2400.00         603.65                0.00        0.00   \n",
       "3         10000.00        2209.33               16.97        0.00   \n",
       "4          2233.10        1009.07                0.00        0.00   \n",
       "5          5000.00         631.38                0.00        0.00   \n",
       "6          5110.85        3025.99                0.00        0.00   \n",
       "7          3000.00         938.14                0.00        0.00   \n",
       "8           162.02         294.94                0.00      189.06   \n",
       "9           673.48         533.42                0.00      269.29   \n",
       "\n",
       "   collection_recovery_fee  \n",
       "0                     0.00  \n",
       "1                     1.11  \n",
       "2                     0.00  \n",
       "3                     0.00  \n",
       "4                     0.00  \n",
       "5                     0.00  \n",
       "6                     0.00  \n",
       "7                     0.00  \n",
       "8                     2.09  \n",
       "9                     2.52  \n",
       "\n",
       "[10 rows x 29 columns]"
      ]
     },
     "execution_count": 7,
     "metadata": {},
     "output_type": "execute_result"
    }
   ],
   "source": [
    "df.head(n=10)"
   ]
  },
  {
   "cell_type": "markdown",
   "metadata": {},
   "source": [
    "### Simple Statistics"
   ]
  },
  {
   "cell_type": "markdown",
   "metadata": {},
   "source": [
    "The table below shows some basic statistics for the numeric values in the data set."
   ]
  },
  {
   "cell_type": "markdown",
   "metadata": {},
   "source": [
    "We can see that the average loan amount is **\\$14,755.26** and the average funded amount is slightly lower at **\\$14,741.88**. Both loan amount and funded amount have the same range from a minimum of **\\$500.00** to a maximum of **\\$35,000.00**.\n",
    "\n",
    "The average interest rate is **13.25%**, which is close to the 50 percentile of **12.99%**. Based on interest rate data, the distribution of the interest rate looks close to a normal distribution.\n",
    "\n",
    "The average annual income is **\\$75,0275.00**, however, we notice that maximum annual income was **\\$9,500,000.00**, which skews the average. We note that the median annual income is **\\$65,000.00**.\n",
    "\n",
    "It is interesting that the maximum debt-to-income (DTI) ratio is **9999%**, while Lending Club states on their website that a maximum DTI of **30%** is required. We suspect there is a outlier or mistake in the data. However, the average DTI ratio of **18.16%** is well within the **30%** as stated on the link: http://blog.lendingclub.com/responsible-lending-better-returns/. \n",
    "\n",
    "\n"
   ]
  },
  {
   "cell_type": "code",
   "execution_count": 8,
   "metadata": {
    "collapsed": false
   },
   "outputs": [
    {
     "name": "stderr",
     "output_type": "stream",
     "text": [
      "/Users/james/anaconda/lib/python2.7/site-packages/numpy/lib/function_base.py:3823: RuntimeWarning:\n",
      "\n",
      "Invalid value encountered in percentile\n",
      "\n"
     ]
    },
    {
     "data": {
      "text/html": [
       "<div>\n",
       "<table border=\"1\" class=\"dataframe\">\n",
       "  <thead>\n",
       "    <tr style=\"text-align: right;\">\n",
       "      <th></th>\n",
       "      <th>count</th>\n",
       "      <th>mean</th>\n",
       "      <th>std</th>\n",
       "      <th>min</th>\n",
       "      <th>25%</th>\n",
       "      <th>50%</th>\n",
       "      <th>75%</th>\n",
       "      <th>max</th>\n",
       "    </tr>\n",
       "  </thead>\n",
       "  <tbody>\n",
       "    <tr>\n",
       "      <th>loan_amnt</th>\n",
       "      <td>887379.0</td>\n",
       "      <td>14755.264605</td>\n",
       "      <td>8435.455601</td>\n",
       "      <td>500.00</td>\n",
       "      <td>8000.000</td>\n",
       "      <td>13000.000000</td>\n",
       "      <td>20000.000000</td>\n",
       "      <td>3.500000e+04</td>\n",
       "    </tr>\n",
       "    <tr>\n",
       "      <th>funded_amnt</th>\n",
       "      <td>887379.0</td>\n",
       "      <td>14741.877625</td>\n",
       "      <td>8429.897657</td>\n",
       "      <td>500.00</td>\n",
       "      <td>8000.000</td>\n",
       "      <td>13000.000000</td>\n",
       "      <td>20000.000000</td>\n",
       "      <td>3.500000e+04</td>\n",
       "    </tr>\n",
       "    <tr>\n",
       "      <th>funded_amnt_inv</th>\n",
       "      <td>887379.0</td>\n",
       "      <td>14702.464383</td>\n",
       "      <td>8442.106732</td>\n",
       "      <td>0.00</td>\n",
       "      <td>8000.000</td>\n",
       "      <td>13000.000000</td>\n",
       "      <td>20000.000000</td>\n",
       "      <td>3.500000e+04</td>\n",
       "    </tr>\n",
       "    <tr>\n",
       "      <th>int_rate</th>\n",
       "      <td>887379.0</td>\n",
       "      <td>13.246740</td>\n",
       "      <td>4.381867</td>\n",
       "      <td>5.32</td>\n",
       "      <td>9.990</td>\n",
       "      <td>12.990000</td>\n",
       "      <td>16.200000</td>\n",
       "      <td>2.899000e+01</td>\n",
       "    </tr>\n",
       "    <tr>\n",
       "      <th>installment</th>\n",
       "      <td>887379.0</td>\n",
       "      <td>436.717127</td>\n",
       "      <td>244.186593</td>\n",
       "      <td>15.67</td>\n",
       "      <td>260.705</td>\n",
       "      <td>382.550000</td>\n",
       "      <td>572.600000</td>\n",
       "      <td>1.445460e+03</td>\n",
       "    </tr>\n",
       "    <tr>\n",
       "      <th>annual_inc</th>\n",
       "      <td>887375.0</td>\n",
       "      <td>75027.587761</td>\n",
       "      <td>64698.300142</td>\n",
       "      <td>0.00</td>\n",
       "      <td>NaN</td>\n",
       "      <td>NaN</td>\n",
       "      <td>NaN</td>\n",
       "      <td>9.500000e+06</td>\n",
       "    </tr>\n",
       "    <tr>\n",
       "      <th>dti</th>\n",
       "      <td>887379.0</td>\n",
       "      <td>18.157039</td>\n",
       "      <td>17.190626</td>\n",
       "      <td>0.00</td>\n",
       "      <td>11.910</td>\n",
       "      <td>17.650000</td>\n",
       "      <td>23.950000</td>\n",
       "      <td>9.999000e+03</td>\n",
       "    </tr>\n",
       "    <tr>\n",
       "      <th>delinq_2yrs</th>\n",
       "      <td>887350.0</td>\n",
       "      <td>0.314442</td>\n",
       "      <td>0.862244</td>\n",
       "      <td>0.00</td>\n",
       "      <td>NaN</td>\n",
       "      <td>NaN</td>\n",
       "      <td>NaN</td>\n",
       "      <td>3.900000e+01</td>\n",
       "    </tr>\n",
       "    <tr>\n",
       "      <th>open_acc</th>\n",
       "      <td>887350.0</td>\n",
       "      <td>11.548469</td>\n",
       "      <td>5.317313</td>\n",
       "      <td>0.00</td>\n",
       "      <td>NaN</td>\n",
       "      <td>NaN</td>\n",
       "      <td>NaN</td>\n",
       "      <td>9.000000e+01</td>\n",
       "    </tr>\n",
       "    <tr>\n",
       "      <th>pub_rec</th>\n",
       "      <td>887350.0</td>\n",
       "      <td>0.195307</td>\n",
       "      <td>0.582091</td>\n",
       "      <td>0.00</td>\n",
       "      <td>NaN</td>\n",
       "      <td>NaN</td>\n",
       "      <td>NaN</td>\n",
       "      <td>8.600000e+01</td>\n",
       "    </tr>\n",
       "    <tr>\n",
       "      <th>revol_bal</th>\n",
       "      <td>887379.0</td>\n",
       "      <td>16920.787533</td>\n",
       "      <td>22426.791896</td>\n",
       "      <td>0.00</td>\n",
       "      <td>6443.000</td>\n",
       "      <td>11875.000000</td>\n",
       "      <td>20829.000000</td>\n",
       "      <td>2.904836e+06</td>\n",
       "    </tr>\n",
       "    <tr>\n",
       "      <th>revol_util</th>\n",
       "      <td>886877.0</td>\n",
       "      <td>55.067693</td>\n",
       "      <td>23.834344</td>\n",
       "      <td>0.00</td>\n",
       "      <td>NaN</td>\n",
       "      <td>NaN</td>\n",
       "      <td>NaN</td>\n",
       "      <td>8.923000e+02</td>\n",
       "    </tr>\n",
       "    <tr>\n",
       "      <th>total_acc</th>\n",
       "      <td>887350.0</td>\n",
       "      <td>25.268026</td>\n",
       "      <td>11.840561</td>\n",
       "      <td>1.00</td>\n",
       "      <td>NaN</td>\n",
       "      <td>NaN</td>\n",
       "      <td>NaN</td>\n",
       "      <td>1.690000e+02</td>\n",
       "    </tr>\n",
       "    <tr>\n",
       "      <th>total_pymnt</th>\n",
       "      <td>887379.0</td>\n",
       "      <td>7558.826684</td>\n",
       "      <td>7871.243336</td>\n",
       "      <td>0.00</td>\n",
       "      <td>1914.590</td>\n",
       "      <td>4894.999117</td>\n",
       "      <td>10616.814231</td>\n",
       "      <td>5.777758e+04</td>\n",
       "    </tr>\n",
       "    <tr>\n",
       "      <th>total_pymnt_inv</th>\n",
       "      <td>887379.0</td>\n",
       "      <td>7521.160306</td>\n",
       "      <td>7846.108604</td>\n",
       "      <td>0.00</td>\n",
       "      <td>1899.700</td>\n",
       "      <td>4862.010000</td>\n",
       "      <td>10565.690000</td>\n",
       "      <td>5.777758e+04</td>\n",
       "    </tr>\n",
       "    <tr>\n",
       "      <th>total_rec_prncp</th>\n",
       "      <td>887379.0</td>\n",
       "      <td>5757.706424</td>\n",
       "      <td>6625.441046</td>\n",
       "      <td>0.00</td>\n",
       "      <td>1200.570</td>\n",
       "      <td>3215.320000</td>\n",
       "      <td>8000.000000</td>\n",
       "      <td>3.500003e+04</td>\n",
       "    </tr>\n",
       "    <tr>\n",
       "      <th>total_rec_int</th>\n",
       "      <td>887379.0</td>\n",
       "      <td>1754.804327</td>\n",
       "      <td>2095.356099</td>\n",
       "      <td>0.00</td>\n",
       "      <td>441.460</td>\n",
       "      <td>1073.280000</td>\n",
       "      <td>2238.265000</td>\n",
       "      <td>2.420562e+04</td>\n",
       "    </tr>\n",
       "    <tr>\n",
       "      <th>total_rec_late_fee</th>\n",
       "      <td>887379.0</td>\n",
       "      <td>0.396692</td>\n",
       "      <td>4.087825</td>\n",
       "      <td>0.00</td>\n",
       "      <td>0.000</td>\n",
       "      <td>0.000000</td>\n",
       "      <td>0.000000</td>\n",
       "      <td>3.586800e+02</td>\n",
       "    </tr>\n",
       "    <tr>\n",
       "      <th>recoveries</th>\n",
       "      <td>887379.0</td>\n",
       "      <td>45.919243</td>\n",
       "      <td>409.693874</td>\n",
       "      <td>0.00</td>\n",
       "      <td>0.000</td>\n",
       "      <td>0.000000</td>\n",
       "      <td>0.000000</td>\n",
       "      <td>3.352027e+04</td>\n",
       "    </tr>\n",
       "    <tr>\n",
       "      <th>collection_recovery_fee</th>\n",
       "      <td>887379.0</td>\n",
       "      <td>4.880757</td>\n",
       "      <td>63.125281</td>\n",
       "      <td>0.00</td>\n",
       "      <td>0.000</td>\n",
       "      <td>0.000000</td>\n",
       "      <td>0.000000</td>\n",
       "      <td>7.002190e+03</td>\n",
       "    </tr>\n",
       "  </tbody>\n",
       "</table>\n",
       "</div>"
      ],
      "text/plain": [
       "                            count          mean           std     min  \\\n",
       "loan_amnt                887379.0  14755.264605   8435.455601  500.00   \n",
       "funded_amnt              887379.0  14741.877625   8429.897657  500.00   \n",
       "funded_amnt_inv          887379.0  14702.464383   8442.106732    0.00   \n",
       "int_rate                 887379.0     13.246740      4.381867    5.32   \n",
       "installment              887379.0    436.717127    244.186593   15.67   \n",
       "annual_inc               887375.0  75027.587761  64698.300142    0.00   \n",
       "dti                      887379.0     18.157039     17.190626    0.00   \n",
       "delinq_2yrs              887350.0      0.314442      0.862244    0.00   \n",
       "open_acc                 887350.0     11.548469      5.317313    0.00   \n",
       "pub_rec                  887350.0      0.195307      0.582091    0.00   \n",
       "revol_bal                887379.0  16920.787533  22426.791896    0.00   \n",
       "revol_util               886877.0     55.067693     23.834344    0.00   \n",
       "total_acc                887350.0     25.268026     11.840561    1.00   \n",
       "total_pymnt              887379.0   7558.826684   7871.243336    0.00   \n",
       "total_pymnt_inv          887379.0   7521.160306   7846.108604    0.00   \n",
       "total_rec_prncp          887379.0   5757.706424   6625.441046    0.00   \n",
       "total_rec_int            887379.0   1754.804327   2095.356099    0.00   \n",
       "total_rec_late_fee       887379.0      0.396692      4.087825    0.00   \n",
       "recoveries               887379.0     45.919243    409.693874    0.00   \n",
       "collection_recovery_fee  887379.0      4.880757     63.125281    0.00   \n",
       "\n",
       "                              25%           50%           75%           max  \n",
       "loan_amnt                8000.000  13000.000000  20000.000000  3.500000e+04  \n",
       "funded_amnt              8000.000  13000.000000  20000.000000  3.500000e+04  \n",
       "funded_amnt_inv          8000.000  13000.000000  20000.000000  3.500000e+04  \n",
       "int_rate                    9.990     12.990000     16.200000  2.899000e+01  \n",
       "installment               260.705    382.550000    572.600000  1.445460e+03  \n",
       "annual_inc                    NaN           NaN           NaN  9.500000e+06  \n",
       "dti                        11.910     17.650000     23.950000  9.999000e+03  \n",
       "delinq_2yrs                   NaN           NaN           NaN  3.900000e+01  \n",
       "open_acc                      NaN           NaN           NaN  9.000000e+01  \n",
       "pub_rec                       NaN           NaN           NaN  8.600000e+01  \n",
       "revol_bal                6443.000  11875.000000  20829.000000  2.904836e+06  \n",
       "revol_util                    NaN           NaN           NaN  8.923000e+02  \n",
       "total_acc                     NaN           NaN           NaN  1.690000e+02  \n",
       "total_pymnt              1914.590   4894.999117  10616.814231  5.777758e+04  \n",
       "total_pymnt_inv          1899.700   4862.010000  10565.690000  5.777758e+04  \n",
       "total_rec_prncp          1200.570   3215.320000   8000.000000  3.500003e+04  \n",
       "total_rec_int             441.460   1073.280000   2238.265000  2.420562e+04  \n",
       "total_rec_late_fee          0.000      0.000000      0.000000  3.586800e+02  \n",
       "recoveries                  0.000      0.000000      0.000000  3.352027e+04  \n",
       "collection_recovery_fee     0.000      0.000000      0.000000  7.002190e+03  "
      ]
     },
     "execution_count": 8,
     "metadata": {},
     "output_type": "execute_result"
    }
   ],
   "source": [
    "df.describe().transpose()"
   ]
  },
  {
   "cell_type": "code",
   "execution_count": 9,
   "metadata": {
    "collapsed": false
   },
   "outputs": [
    {
     "data": {
      "text/plain": [
       "loan_amnt                  13000.000000\n",
       "funded_amnt                13000.000000\n",
       "funded_amnt_inv            13000.000000\n",
       "int_rate                      12.990000\n",
       "installment                  382.550000\n",
       "annual_inc                 65000.000000\n",
       "dti                           17.650000\n",
       "delinq_2yrs                    0.000000\n",
       "open_acc                      11.000000\n",
       "pub_rec                        0.000000\n",
       "revol_bal                  11875.000000\n",
       "revol_util                    56.000000\n",
       "total_acc                     24.000000\n",
       "total_pymnt                 4894.999117\n",
       "total_pymnt_inv             4862.010000\n",
       "total_rec_prncp             3215.320000\n",
       "total_rec_int               1073.280000\n",
       "total_rec_late_fee             0.000000\n",
       "recoveries                     0.000000\n",
       "collection_recovery_fee        0.000000\n",
       "dtype: float64"
      ]
     },
     "execution_count": 9,
     "metadata": {},
     "output_type": "execute_result"
    }
   ],
   "source": [
    "df.median()"
   ]
  },
  {
   "cell_type": "markdown",
   "metadata": {},
   "source": [
    "<b><u>Resubmission</u></b>\n",
    "\n",
    "<mark>In general, the longer the borrower has been employed, the lower amount that is borrowed. This is intuitive because the longer the borrower works, we suspect on average the less they have to borrow. The reason why the 10+ years category is the largest value is because the range of the category is much larger. We do not have anymore granularity in the data in terms of exact number of years of employment for borrowers with 10+ years.</mark>"
   ]
  },
  {
   "cell_type": "markdown",
   "metadata": {},
   "source": [
    "Next, we continue with some analysis of categorical variables.\n",
    "\n",
    "We observe the employment length for the borrowers using a histogram. The employment length of 0 to 5 years account for **43.37%** of the borrowers. The employment length of 6 to 9 years account for **18.72%** of the borrowers. The employement length of 10 years or greater account for **32.86%** of the borrowers. **5.05%** of the borrowers have a unknown employment status.\n",
    "\n"
   ]
  },
  {
   "cell_type": "code",
   "execution_count": 10,
   "metadata": {
    "collapsed": false
   },
   "outputs": [
    {
     "data": {
      "text/plain": [
       "<matplotlib.text.Text at 0x104ad7b90>"
      ]
     },
     "execution_count": 10,
     "metadata": {},
     "output_type": "execute_result"
    },
    {
     "data": {
      "image/png": "[encoded data removed]",
      "text/plain": [
       "<matplotlib.figure.Figure at 0x104ae7150>"
      ]
     },
     "metadata": {},
     "output_type": "display_data"
    }
   ],
   "source": [
    "plt.style.use('seaborn-poster')\n",
    "df['emp_length'].value_counts(ascending=True).plot(kind='barh', title='Employment Length')\n",
    "plt.xlabel('No. of Borrowers')"
   ]
  },
  {
   "cell_type": "code",
   "execution_count": 11,
   "metadata": {
    "collapsed": false
   },
   "outputs": [
    {
     "data": {
      "text/plain": [
       "10+ years    291569\n",
       "2 years       78870\n",
       "< 1 year      70605\n",
       "3 years       70026\n",
       "1 year        57095\n",
       "5 years       55704\n",
       "4 years       52529\n",
       "n/a           44825\n",
       "7 years       44594\n",
       "8 years       43955\n",
       "6 years       42950\n",
       "9 years       34657\n",
       "Name: emp_length, dtype: int64"
      ]
     },
     "execution_count": 11,
     "metadata": {},
     "output_type": "execute_result"
    }
   ],
   "source": [
    "df.emp_length.value_counts()"
   ]
  },
  {
   "cell_type": "markdown",
   "metadata": {},
   "source": [
    "Calculate the percentage of data where employment length falls between 0 and 5 years."
   ]
  },
  {
   "cell_type": "code",
   "execution_count": 12,
   "metadata": {
    "collapsed": false
   },
   "outputs": [
    {
     "data": {
      "text/plain": [
       "43.37"
      ]
     },
     "execution_count": 12,
     "metadata": {},
     "output_type": "execute_result"
    }
   ],
   "source": [
    "round(float(len(df[(df.emp_length == '< 1 year') |\n",
    "                   (df.emp_length == '1 year') |\n",
    "                   (df.emp_length == '2 years') |\n",
    "                   (df.emp_length == '3 years') |\n",
    "                   (df.emp_length == '4 years') |\n",
    "                   (df.emp_length == '5 years')]))/float(len(df['emp_length'])) * 100, 2)"
   ]
  },
  {
   "cell_type": "markdown",
   "metadata": {},
   "source": [
    "Calculate the percentage of data where employment length falls between 6 and 9 years."
   ]
  },
  {
   "cell_type": "code",
   "execution_count": 13,
   "metadata": {
    "collapsed": false
   },
   "outputs": [
    {
     "data": {
      "text/plain": [
       "18.72"
      ]
     },
     "execution_count": 13,
     "metadata": {},
     "output_type": "execute_result"
    }
   ],
   "source": [
    "round(float(len(df[(df.emp_length == '6 years') |\n",
    "                   (df.emp_length == '7 years') |\n",
    "                   (df.emp_length == '8 years') |\n",
    "                   (df.emp_length == '9 years')]))/float(len(df['emp_length'])) * 100, 2)"
   ]
  },
  {
   "cell_type": "markdown",
   "metadata": {},
   "source": [
    "Calculate the percentage of data where employment length is 10+ years."
   ]
  },
  {
   "cell_type": "code",
   "execution_count": 14,
   "metadata": {
    "collapsed": false
   },
   "outputs": [
    {
     "data": {
      "text/plain": [
       "32.86"
      ]
     },
     "execution_count": 14,
     "metadata": {},
     "output_type": "execute_result"
    }
   ],
   "source": [
    "round(float(len(df[(df.emp_length == '10+ years')]))/float(len(df['emp_length'])) * 100, 2)"
   ]
  },
  {
   "cell_type": "markdown",
   "metadata": {},
   "source": [
    "Calculate the percentage of data where employment length is not available."
   ]
  },
  {
   "cell_type": "code",
   "execution_count": 15,
   "metadata": {
    "collapsed": false
   },
   "outputs": [
    {
     "data": {
      "text/plain": [
       "5.05"
      ]
     },
     "execution_count": 15,
     "metadata": {},
     "output_type": "execute_result"
    }
   ],
   "source": [
    "round(float(len(df[(df.emp_length == 'n/a')]))/float(len(df['emp_length'])) * 100, 2)"
   ]
  },
  {
   "cell_type": "markdown",
   "metadata": {},
   "source": [
    "### Data Imputation"
   ]
  },
  {
   "cell_type": "code",
   "execution_count": 16,
   "metadata": {
    "collapsed": true
   },
   "outputs": [],
   "source": [
    "# Replace NaN with mean values\n",
    "df.revol_util.fillna(df.revol_util.mean, inplace=True)"
   ]
  },
  {
   "cell_type": "markdown",
   "metadata": {},
   "source": [
    "Make sure data imputation was complete on missing values in revol_util attribute."
   ]
  },
  {
   "cell_type": "code",
   "execution_count": 17,
   "metadata": {
    "collapsed": false
   },
   "outputs": [
    {
     "name": "stdout",
     "output_type": "stream",
     "text": [
      "<class 'pandas.core.frame.DataFrame'>\n",
      "RangeIndex: 887379 entries, 0 to 887378\n",
      "Data columns (total 29 columns):\n",
      "loan_amnt                  887379 non-null float64\n",
      "funded_amnt                887379 non-null float64\n",
      "funded_amnt_inv            887379 non-null float64\n",
      "term                       887379 non-null object\n",
      "int_rate                   887379 non-null float64\n",
      "installment                887379 non-null float64\n",
      "grade                      887379 non-null object\n",
      "sub_grade                  887379 non-null object\n",
      "emp_length                 887379 non-null object\n",
      "home_ownership             887379 non-null object\n",
      "annual_inc                 887375 non-null float64\n",
      "loan_status                887379 non-null object\n",
      "purpose                    887379 non-null object\n",
      "zip_code                   887379 non-null object\n",
      "addr_state                 887379 non-null object\n",
      "dti                        887379 non-null float64\n",
      "delinq_2yrs                887350 non-null float64\n",
      "open_acc                   887350 non-null float64\n",
      "pub_rec                    887350 non-null float64\n",
      "revol_bal                  887379 non-null float64\n",
      "revol_util                 887379 non-null object\n",
      "total_acc                  887350 non-null float64\n",
      "total_pymnt                887379 non-null float64\n",
      "total_pymnt_inv            887379 non-null float64\n",
      "total_rec_prncp            887379 non-null float64\n",
      "total_rec_int              887379 non-null float64\n",
      "total_rec_late_fee         887379 non-null float64\n",
      "recoveries                 887379 non-null float64\n",
      "collection_recovery_fee    887379 non-null float64\n",
      "dtypes: float64(19), object(10)\n",
      "memory usage: 196.3+ MB\n"
     ]
    }
   ],
   "source": [
    "df.info()"
   ]
  },
  {
   "cell_type": "markdown",
   "metadata": {},
   "source": [
    "<b><u>Resubmission</u></b>\n",
    "\n",
    "<mark>This is an interesting distribution. Usually the longer the term for the loan, the higher the ROI (return on investment) for the lender. However, in this case, the majority of terms are 36 months. We suspect that the majority of the loans are not too large, and the borrowers have an immediate need for the loan. For example, medical emergencies, emergency home repairs, and credit card consolidation. Also, we note that shorter term loans are usually safer for the lender, as there are fewer unexpected events with the borrower, all things being equal. From this perspective, Lending Club has a conservative portfolio with a 70/30 distribution between the short-term and long-term loans.</mark>"
   ]
  },
  {
   "cell_type": "markdown",
   "metadata": {},
   "source": [
    "Next we explore the terms and the purpose of the loans in the data set.\n",
    "\n",
    "Exactly **70.00%** of the terms are 36 months, and **30.00%** of the terms are 60 months."
   ]
  },
  {
   "cell_type": "code",
   "execution_count": 18,
   "metadata": {
    "collapsed": false
   },
   "outputs": [
    {
     "data": {
      "text/plain": [
       "(-1.0165283189972172,\n",
       " 1.0587669703902551,\n",
       " -1.0932880813105288,\n",
       " 1.0113733978780906)"
      ]
     },
     "execution_count": 18,
     "metadata": {},
     "output_type": "execute_result"
    },
    {
     "data": {
      "image/png": "[encoded data removed]",
      "text/plain": [
       "<matplotlib.figure.Figure at 0x119ac6d10>"
      ]
     },
     "metadata": {},
     "output_type": "display_data"
    }
   ],
   "source": [
    "plt.style.use('seaborn-poster')\n",
    "dfTerm = sorted(df['term'].unique())\n",
    "dfTermCount = df.groupby(['term'], sort = True).agg({'term':'count'})\n",
    "dfTermCount = dfTermCount['term'].tolist()\n",
    "\n",
    "plt.pie(dfTermCount, \n",
    "        explode = (0, 0.1),\n",
    "        labels = dfTerm, \n",
    "        autopct = '%1.1f%%')\n",
    "plt.axis('equal')"
   ]
  },
  {
   "cell_type": "markdown",
   "metadata": {},
   "source": [
    "We note that **82.31%** of borrowers have debt consolidation or credit card for the purpose of the loan. The remaining **17.69%** account for non-debt related purposes."
   ]
  },
  {
   "cell_type": "markdown",
   "metadata": {},
   "source": [
    "Calculate the percentage of data where purpose is debt consolidation or credit card."
   ]
  },
  {
   "cell_type": "code",
   "execution_count": 19,
   "metadata": {
    "collapsed": false
   },
   "outputs": [
    {
     "data": {
      "text/plain": [
       "82.31"
      ]
     },
     "execution_count": 19,
     "metadata": {},
     "output_type": "execute_result"
    }
   ],
   "source": [
    "round(float(len(df[(df.purpose == 'debt_consolidation') |\n",
    "                   (df.purpose == 'credit_card')]))/float(len(df['purpose'])) * 100, 2)"
   ]
  },
  {
   "cell_type": "markdown",
   "metadata": {},
   "source": [
    "Calculate the percentage of data where purpose is not debt consolidation and credit card."
   ]
  },
  {
   "cell_type": "code",
   "execution_count": 20,
   "metadata": {
    "collapsed": false
   },
   "outputs": [
    {
     "data": {
      "text/plain": [
       "17.69"
      ]
     },
     "execution_count": 20,
     "metadata": {},
     "output_type": "execute_result"
    }
   ],
   "source": [
    "round(float(len(df[(df.purpose != 'debt_consolidation') &\n",
    "                   (df.purpose != 'credit_card')]))/float(len(df['purpose'])) * 100, 2)"
   ]
  },
  {
   "cell_type": "markdown",
   "metadata": {},
   "source": [
    "<b><u>Resubmission</u></b>\n",
    "\n",
    "<mark>We are able to visually confirm that the purpose of the loans fall into categories that would be used by the borrower for short-term needs with debt consolidation, credit card, and home improvement being the top 3 categories. We also confirm that the top 3 categories for 60 months term are the same. They maintain roughly the 70/30 percentage distribution among the 3 categories.</mark>"
   ]
  },
  {
   "cell_type": "markdown",
   "metadata": {},
   "source": [
    "The following cross tabular chart shows terms of the loan distributed within each purpose of loan.\n",
    "\n",
    "It confirms visually the above pie chart that the ratio of 60 months term to 36 months term is 3-to-7 for all the loans combined."
   ]
  },
  {
   "cell_type": "code",
   "execution_count": 21,
   "metadata": {
    "collapsed": false
   },
   "outputs": [
    {
     "data": {
      "text/plain": [
       "<matplotlib.axes._subplots.AxesSubplot at 0x11a105310>"
      ]
     },
     "execution_count": 21,
     "metadata": {},
     "output_type": "execute_result"
    },
    {
     "data": {
      "image/png": "[encoded data removed]",
      "text/plain": [
       "<matplotlib.figure.Figure at 0x11a454d10>"
      ]
     },
     "metadata": {},
     "output_type": "display_data"
    }
   ],
   "source": [
    "plt.style.use('seaborn-poster')\n",
    "ct = pd.crosstab([df['purpose']], df.term.astype(str))\n",
    "ct.plot.barh(stacked=True, title='Purpose of Loan by Terms')"
   ]
  },
  {
   "cell_type": "code",
   "execution_count": 22,
   "metadata": {
    "collapsed": false
   },
   "outputs": [
    {
     "data": {
      "text/plain": [
       "count    621125.000000\n",
       "mean      12481.396458\n",
       "std        7780.864225\n",
       "min         500.000000\n",
       "25%        6625.000000\n",
       "50%       10000.000000\n",
       "75%       16000.000000\n",
       "max       35000.000000\n",
       "Name: loan_amnt, dtype: float64"
      ]
     },
     "execution_count": 22,
     "metadata": {},
     "output_type": "execute_result"
    }
   ],
   "source": [
    "df[df.term.str.contains('36')].loan_amnt.describe()"
   ]
  },
  {
   "cell_type": "code",
   "execution_count": 23,
   "metadata": {
    "collapsed": false
   },
   "outputs": [
    {
     "data": {
      "text/plain": [
       "count    266254.000000\n",
       "mean      20059.809712\n",
       "std        7464.594472\n",
       "min        1000.000000\n",
       "25%       14400.000000\n",
       "50%       19425.000000\n",
       "75%       25000.000000\n",
       "max       35000.000000\n",
       "Name: loan_amnt, dtype: float64"
      ]
     },
     "execution_count": 23,
     "metadata": {},
     "output_type": "execute_result"
    }
   ],
   "source": [
    "df[df.term.str.contains('60')].loan_amnt.describe()"
   ]
  },
  {
   "cell_type": "code",
   "execution_count": 24,
   "metadata": {
    "collapsed": false
   },
   "outputs": [
    {
     "data": {
      "text/html": [
       "<div>\n",
       "<table border=\"1\" class=\"dataframe\">\n",
       "  <thead>\n",
       "    <tr style=\"text-align: right;\">\n",
       "      <th></th>\n",
       "      <th></th>\n",
       "      <th>term</th>\n",
       "    </tr>\n",
       "    <tr>\n",
       "      <th>purpose</th>\n",
       "      <th>term</th>\n",
       "      <th></th>\n",
       "    </tr>\n",
       "  </thead>\n",
       "  <tbody>\n",
       "    <tr>\n",
       "      <th rowspan=\"2\" valign=\"top\">car</th>\n",
       "      <th>36 months</th>\n",
       "      <td>6954</td>\n",
       "    </tr>\n",
       "    <tr>\n",
       "      <th>60 months</th>\n",
       "      <td>1909</td>\n",
       "    </tr>\n",
       "    <tr>\n",
       "      <th rowspan=\"2\" valign=\"top\">credit_card</th>\n",
       "      <th>36 months</th>\n",
       "      <td>150410</td>\n",
       "    </tr>\n",
       "    <tr>\n",
       "      <th>60 months</th>\n",
       "      <td>55772</td>\n",
       "    </tr>\n",
       "    <tr>\n",
       "      <th rowspan=\"2\" valign=\"top\">debt_consolidation</th>\n",
       "      <th>36 months</th>\n",
       "      <td>351848</td>\n",
       "    </tr>\n",
       "    <tr>\n",
       "      <th>60 months</th>\n",
       "      <td>172367</td>\n",
       "    </tr>\n",
       "    <tr>\n",
       "      <th rowspan=\"2\" valign=\"top\">educational</th>\n",
       "      <th>36 months</th>\n",
       "      <td>406</td>\n",
       "    </tr>\n",
       "    <tr>\n",
       "      <th>60 months</th>\n",
       "      <td>17</td>\n",
       "    </tr>\n",
       "    <tr>\n",
       "      <th rowspan=\"2\" valign=\"top\">home_improvement</th>\n",
       "      <th>36 months</th>\n",
       "      <td>35832</td>\n",
       "    </tr>\n",
       "    <tr>\n",
       "      <th>60 months</th>\n",
       "      <td>15997</td>\n",
       "    </tr>\n",
       "    <tr>\n",
       "      <th rowspan=\"2\" valign=\"top\">house</th>\n",
       "      <th>36 months</th>\n",
       "      <td>2615</td>\n",
       "    </tr>\n",
       "    <tr>\n",
       "      <th>60 months</th>\n",
       "      <td>1092</td>\n",
       "    </tr>\n",
       "    <tr>\n",
       "      <th rowspan=\"2\" valign=\"top\">major_purchase</th>\n",
       "      <th>36 months</th>\n",
       "      <td>13034</td>\n",
       "    </tr>\n",
       "    <tr>\n",
       "      <th>60 months</th>\n",
       "      <td>4243</td>\n",
       "    </tr>\n",
       "    <tr>\n",
       "      <th rowspan=\"2\" valign=\"top\">medical</th>\n",
       "      <th>36 months</th>\n",
       "      <td>6960</td>\n",
       "    </tr>\n",
       "    <tr>\n",
       "      <th>60 months</th>\n",
       "      <td>1580</td>\n",
       "    </tr>\n",
       "    <tr>\n",
       "      <th rowspan=\"2\" valign=\"top\">moving</th>\n",
       "      <th>36 months</th>\n",
       "      <td>4662</td>\n",
       "    </tr>\n",
       "    <tr>\n",
       "      <th>60 months</th>\n",
       "      <td>752</td>\n",
       "    </tr>\n",
       "    <tr>\n",
       "      <th rowspan=\"2\" valign=\"top\">other</th>\n",
       "      <th>36 months</th>\n",
       "      <td>34099</td>\n",
       "    </tr>\n",
       "    <tr>\n",
       "      <th>60 months</th>\n",
       "      <td>8795</td>\n",
       "    </tr>\n",
       "  </tbody>\n",
       "</table>\n",
       "</div>"
      ],
      "text/plain": [
       "                                 term\n",
       "purpose            term              \n",
       "car                 36 months    6954\n",
       "                    60 months    1909\n",
       "credit_card         36 months  150410\n",
       "                    60 months   55772\n",
       "debt_consolidation  36 months  351848\n",
       "                    60 months  172367\n",
       "educational         36 months     406\n",
       "                    60 months      17\n",
       "home_improvement    36 months   35832\n",
       "                    60 months   15997\n",
       "house               36 months    2615\n",
       "                    60 months    1092\n",
       "major_purchase      36 months   13034\n",
       "                    60 months    4243\n",
       "medical             36 months    6960\n",
       "                    60 months    1580\n",
       "moving              36 months    4662\n",
       "                    60 months     752\n",
       "other               36 months   34099\n",
       "                    60 months    8795"
      ]
     },
     "execution_count": 24,
     "metadata": {},
     "output_type": "execute_result"
    }
   ],
   "source": [
    "df2 = df.groupby(['purpose','term'], sort = True).agg({'term':'count'})\n",
    "df2.head(n=20)"
   ]
  },
  {
   "cell_type": "code",
   "execution_count": 25,
   "metadata": {
    "collapsed": false
   },
   "outputs": [
    {
     "data": {
      "text/plain": [
       "debt_consolidation    524215\n",
       "credit_card           206182\n",
       "home_improvement       51829\n",
       "other                  42894\n",
       "major_purchase         17277\n",
       "small_business         10377\n",
       "car                     8863\n",
       "medical                 8540\n",
       "moving                  5414\n",
       "vacation                4736\n",
       "house                   3707\n",
       "wedding                 2347\n",
       "renewable_energy         575\n",
       "educational              423\n",
       "Name: purpose, dtype: int64"
      ]
     },
     "execution_count": 25,
     "metadata": {},
     "output_type": "execute_result"
    }
   ],
   "source": [
    "df['purpose'].value_counts()"
   ]
  },
  {
   "cell_type": "markdown",
   "metadata": {},
   "source": [
    "Next we review the purpose by loan amount.\n",
    "\n",
    "We know from looking at the boxplots, the categories of car, other, wedding, major purchase, medical, moving, vacation, renewable energy, and education contain outliers (1.5 x IQR). The range of loan amounts for credit card, small business, debt consolidation, home improvement, and house contain no outliers. Further investigation will need to be conducted to better understand the reasons behind the outliers.\n",
    "\n",
    "In general, the categories with the largest loan amounts are credit card, small business, debt consolidation, home improvement, and house. The smallest loan amounts fall in the vacation and educational categories.\n",
    "\n",
    "The average loan amount across all categories is: **\\$14,755.26** with a standard deviation of **\\$8,435.46**. The minimal loan amount is: **\\$500.00** and the maximum loan amount is: **\\$35,000.00**."
   ]
  },
  {
   "cell_type": "code",
   "execution_count": 26,
   "metadata": {
    "collapsed": false
   },
   "outputs": [
    {
     "data": {
      "text/plain": [
       "<matplotlib.axes._subplots.AxesSubplot at 0x11a5d4910>"
      ]
     },
     "execution_count": 26,
     "metadata": {},
     "output_type": "execute_result"
    },
    {
     "data": {
      "image/png": "[encoded data removed]",
      "text/plain": [
       "<matplotlib.figure.Figure at 0x1051729d0>"
      ]
     },
     "metadata": {},
     "output_type": "display_data"
    }
   ],
   "source": [
    "#df.reindex(index=df.purpose)\n",
    "#plt.style.use('ggplot')\n",
    "#df.boxplot(column='loan_amnt', by = 'purpose', widths=0.25, rot=90)\n",
    "#seaborn looks nicer\n",
    "df.reindex(index=df.purpose)\n",
    "sb.set_style(\"whitegrid\")\n",
    "sb.boxplot(data=df,\n",
    "           y='purpose',\n",
    "           x='loan_amnt',\n",
    "           orient='h',\n",
    "           palette=sb.color_palette(\"RdBu\", n_colors=14),\n",
    "           linewidth=1.5,\n",
    "           fliersize=3.5)"
   ]
  },
  {
   "cell_type": "code",
   "execution_count": 27,
   "metadata": {
    "collapsed": false
   },
   "outputs": [
    {
     "data": {
      "text/plain": [
       "count    887379.000000\n",
       "mean      14755.264605\n",
       "std        8435.455601\n",
       "min         500.000000\n",
       "25%        8000.000000\n",
       "50%       13000.000000\n",
       "75%       20000.000000\n",
       "max       35000.000000\n",
       "Name: loan_amnt, dtype: float64"
      ]
     },
     "execution_count": 27,
     "metadata": {},
     "output_type": "execute_result"
    }
   ],
   "source": [
    "df['loan_amnt'].describe()"
   ]
  },
  {
   "cell_type": "markdown",
   "metadata": {},
   "source": [
    "<b><u>Resubmission</u></b>  \n",
    "<mark>With 91.45% of the loans in good standing (Current or Fully Paid), the loan portfolio is in good shape, and the business model looks viable. Since this data set comprises of loans issued in a span of 8 years, we can speculate that the business has robust growth since there are only two possible terms of 3 years and 5 years. If the business was not growing, we should see a larger percentage of fully paid loans.</mark>"
   ]
  },
  {
   "cell_type": "markdown",
   "metadata": {},
   "source": [
    "Next we explore the loan status.\n",
    "\n",
    "We note that **91.45%** of the loan status are in good standing (Current or Fully Paid), whereas only **8.55%** of the loans are not in good standing."
   ]
  },
  {
   "cell_type": "code",
   "execution_count": 28,
   "metadata": {
    "collapsed": false
   },
   "outputs": [],
   "source": [
    "# Display Percentage of Loan Status\n",
    "dfStatus = sorted(df['loan_status'].unique())\n",
    "dfStatusCount = df.groupby(['loan_status'], sort = True).agg({'term':'count'})\n",
    "dfStatusCount = dfStatusCount['term'].tolist()\n",
    "\n",
    "pie = {\n",
    "    'data' : [{ 'labels': dfStatus,\n",
    "                'values' : dfStatusCount,\n",
    "                'type' : 'pie'}],\n",
    "     'layout': {'title': 'Loan Status'}\n",
    "}\n",
    "url = py.plot(pie, filename = 'Loan Status')"
   ]
  },
  {
   "cell_type": "markdown",
   "metadata": {},
   "source": [
    "#### The loan status image cannot be displayed without the image file.\n",
    "![Alt](./loan_status.png)"
   ]
  },
  {
   "cell_type": "code",
   "execution_count": 29,
   "metadata": {
    "collapsed": false
   },
   "outputs": [
    {
     "data": {
      "text/plain": [
       "Current                                                601779\n",
       "Fully Paid                                             207723\n",
       "Charged Off                                             45248\n",
       "Late (31-120 days)                                      11591\n",
       "Issued                                                   8460\n",
       "In Grace Period                                          6253\n",
       "Late (16-30 days)                                        2357\n",
       "Does not meet the credit policy. Status:Fully Paid       1988\n",
       "Default                                                  1219\n",
       "Does not meet the credit policy. Status:Charged Off       761\n",
       "Name: loan_status, dtype: int64"
      ]
     },
     "execution_count": 29,
     "metadata": {},
     "output_type": "execute_result"
    }
   ],
   "source": [
    "df.reindex(index=df.purpose)\n",
    "df.loan_status.value_counts()"
   ]
  },
  {
   "cell_type": "markdown",
   "metadata": {},
   "source": [
    "Calculate the percentage of data where loan status is current or fully paid."
   ]
  },
  {
   "cell_type": "code",
   "execution_count": 30,
   "metadata": {
    "collapsed": false
   },
   "outputs": [
    {
     "data": {
      "text/plain": [
       "91.45"
      ]
     },
     "execution_count": 30,
     "metadata": {},
     "output_type": "execute_result"
    }
   ],
   "source": [
    "round(float(len(df[(df.loan_status == 'Current') |\n",
    "                   (df.loan_status == 'Fully Paid') |\n",
    "                   (df.loan_status == 'Does not meet the credit policy. Status:Fully Paid')]))/float(len(df.loan_status)) * 100, 2)"
   ]
  },
  {
   "cell_type": "markdown",
   "metadata": {},
   "source": [
    "Calculate the percentage of data where loan status is not current or fully paid."
   ]
  },
  {
   "cell_type": "code",
   "execution_count": 31,
   "metadata": {
    "collapsed": false
   },
   "outputs": [
    {
     "data": {
      "text/plain": [
       "8.55"
      ]
     },
     "execution_count": 31,
     "metadata": {},
     "output_type": "execute_result"
    }
   ],
   "source": [
    "round(float(len(df[(df.loan_status != 'Current') &\n",
    "                   (df.loan_status != 'Fully Paid') &\n",
    "                   (df.loan_status != 'Does not meet the credit policy. Status:Fully Paid')]))/float(len(df.loan_status)) * 100, 2)"
   ]
  },
  {
   "cell_type": "markdown",
   "metadata": {},
   "source": [
    "<b><u>Resubmission</u></b>  \n",
    "<mark>This histogram is similar to the previous histogram, but instead of showing the term by purpose, we show the loan status by purpose. We can confirm visually that the distribution of loan status are roughly the same in each purpose. For example, we do see any one category as having loan status dominated by a single type.</mark>"
   ]
  },
  {
   "cell_type": "code",
   "execution_count": 32,
   "metadata": {
    "collapsed": false
   },
   "outputs": [
    {
     "data": {
      "text/plain": [
       "<matplotlib.axes._subplots.AxesSubplot at 0x11ec69c90>"
      ]
     },
     "execution_count": 32,
     "metadata": {},
     "output_type": "execute_result"
    },
    {
     "data": {
      "image/png": "[encoded data removed]",
      "text/plain": [
       "<matplotlib.figure.Figure at 0x11eb09490>"
      ]
     },
     "metadata": {},
     "output_type": "display_data"
    }
   ],
   "source": [
    "plt.style.use('seaborn-poster')\n",
    "ct = pd.crosstab([df['purpose']], df.loan_status.astype(str))\n",
    "ct.plot.barh(stacked=True, title='Purpose of Loan by Loan Status')"
   ]
  },
  {
   "cell_type": "markdown",
   "metadata": {
    "collapsed": true
   },
   "source": [
    "### Conversion of string values to numerical values for the purpose of analysis"
   ]
  },
  {
   "cell_type": "code",
   "execution_count": 33,
   "metadata": {
    "collapsed": false
   },
   "outputs": [
    {
     "name": "stdout",
     "output_type": "stream",
     "text": [
      "<class 'pandas.core.frame.DataFrame'>\n",
      "RangeIndex: 887379 entries, 0 to 887378\n",
      "Data columns (total 29 columns):\n",
      "loan_amnt                  887379 non-null float64\n",
      "funded_amnt                887379 non-null float64\n",
      "funded_amnt_inv            887379 non-null float64\n",
      "term                       887379 non-null object\n",
      "int_rate                   887379 non-null float64\n",
      "installment                887379 non-null float64\n",
      "grade                      887379 non-null object\n",
      "sub_grade                  887379 non-null object\n",
      "emp_length                 887379 non-null int64\n",
      "home_ownership             887379 non-null object\n",
      "annual_inc                 887375 non-null float64\n",
      "loan_status                887379 non-null object\n",
      "purpose                    887379 non-null object\n",
      "zip_code                   887379 non-null object\n",
      "addr_state                 887379 non-null object\n",
      "dti                        887379 non-null float64\n",
      "delinq_2yrs                887350 non-null float64\n",
      "open_acc                   887350 non-null float64\n",
      "pub_rec                    887350 non-null float64\n",
      "revol_bal                  887379 non-null float64\n",
      "revol_util                 887379 non-null object\n",
      "total_acc                  887350 non-null float64\n",
      "total_pymnt                887379 non-null float64\n",
      "total_pymnt_inv            887379 non-null float64\n",
      "total_rec_prncp            887379 non-null float64\n",
      "total_rec_int              887379 non-null float64\n",
      "total_rec_late_fee         887379 non-null float64\n",
      "recoveries                 887379 non-null float64\n",
      "collection_recovery_fee    887379 non-null float64\n",
      "dtypes: float64(19), int64(1), object(9)\n",
      "memory usage: 196.3+ MB\n"
     ]
    }
   ],
   "source": [
    "df = df.replace(to_replace=\"10+ years\",value=10)\n",
    "df = df.replace(to_replace=\"< 1 year\",value=0)\n",
    "df = df.replace(to_replace=\"1 year\",value=1)\n",
    "df = df.replace(to_replace=\"2 years\",value=2)\n",
    "df = df.replace(to_replace=\"3 years\",value=3)\n",
    "df = df.replace(to_replace=\"4 years\",value=4)\n",
    "df = df.replace(to_replace=\"5 years\",value=5)\n",
    "df = df.replace(to_replace=\"6 years\",value=6)\n",
    "df = df.replace(to_replace=\"7 years\",value=7)\n",
    "df = df.replace(to_replace=\"8 years\",value=8)\n",
    "df = df.replace(to_replace=\"9 years\",value=9)\n",
    "df = df.replace(to_replace=\"n/a\",value=5)\n",
    "df.info()"
   ]
  },
  {
   "cell_type": "markdown",
   "metadata": {},
   "source": [
    "<b><u>Resubmission</u></b>  \n",
    "<mark> </mark>"
   ]
  },
  {
   "cell_type": "code",
   "execution_count": 156,
   "metadata": {
    "collapsed": false
   },
   "outputs": [
    {
     "data": {
      "text/html": [
       "<div>\n",
       "<table border=\"1\" class=\"dataframe\">\n",
       "  <thead>\n",
       "    <tr style=\"text-align: right;\">\n",
       "      <th></th>\n",
       "      <th>loan_status</th>\n",
       "      <th>loan_amnt (average)</th>\n",
       "      <th>recoveries (average)</th>\n",
       "      <th>grade_A</th>\n",
       "      <th>grade_B</th>\n",
       "      <th>grade_C</th>\n",
       "      <th>grade_D</th>\n",
       "      <th>grade_E</th>\n",
       "      <th>grade_F</th>\n",
       "      <th>grade_G</th>\n",
       "    </tr>\n",
       "  </thead>\n",
       "  <tbody>\n",
       "    <tr>\n",
       "      <th>3</th>\n",
       "      <td>In Grace Period</td>\n",
       "      <td>16005.741244</td>\n",
       "      <td>0.000000</td>\n",
       "      <td>365.0</td>\n",
       "      <td>1240.0</td>\n",
       "      <td>1887.0</td>\n",
       "      <td>1405.0</td>\n",
       "      <td>908.0</td>\n",
       "      <td>354.0</td>\n",
       "      <td>94.0</td>\n",
       "    </tr>\n",
       "    <tr>\n",
       "      <th>4</th>\n",
       "      <td>Late (16-30 days)</td>\n",
       "      <td>15670.661858</td>\n",
       "      <td>0.000000</td>\n",
       "      <td>134.0</td>\n",
       "      <td>410.0</td>\n",
       "      <td>678.0</td>\n",
       "      <td>569.0</td>\n",
       "      <td>368.0</td>\n",
       "      <td>155.0</td>\n",
       "      <td>43.0</td>\n",
       "    </tr>\n",
       "    <tr>\n",
       "      <th>2</th>\n",
       "      <td>Late</td>\n",
       "      <td>15569.308084</td>\n",
       "      <td>0.000000</td>\n",
       "      <td>492.0</td>\n",
       "      <td>2004.0</td>\n",
       "      <td>3339.0</td>\n",
       "      <td>2890.0</td>\n",
       "      <td>1852.0</td>\n",
       "      <td>768.0</td>\n",
       "      <td>246.0</td>\n",
       "    </tr>\n",
       "    <tr>\n",
       "      <th>1</th>\n",
       "      <td>Issued</td>\n",
       "      <td>15298.587470</td>\n",
       "      <td>0.000000</td>\n",
       "      <td>1448.0</td>\n",
       "      <td>2529.0</td>\n",
       "      <td>2472.0</td>\n",
       "      <td>1185.0</td>\n",
       "      <td>593.0</td>\n",
       "      <td>194.0</td>\n",
       "      <td>39.0</td>\n",
       "    </tr>\n",
       "    <tr>\n",
       "      <th>5</th>\n",
       "      <td>Default</td>\n",
       "      <td>15193.847416</td>\n",
       "      <td>0.000000</td>\n",
       "      <td>47.0</td>\n",
       "      <td>198.0</td>\n",
       "      <td>360.0</td>\n",
       "      <td>312.0</td>\n",
       "      <td>201.0</td>\n",
       "      <td>79.0</td>\n",
       "      <td>22.0</td>\n",
       "    </tr>\n",
       "    <tr>\n",
       "      <th>0</th>\n",
       "      <td>Charged Off</td>\n",
       "      <td>14556.293096</td>\n",
       "      <td>890.805156</td>\n",
       "      <td>2617.0</td>\n",
       "      <td>9519.0</td>\n",
       "      <td>12642.0</td>\n",
       "      <td>10486.0</td>\n",
       "      <td>6258.0</td>\n",
       "      <td>2934.0</td>\n",
       "      <td>792.0</td>\n",
       "    </tr>\n",
       "    <tr>\n",
       "      <th>6</th>\n",
       "      <td>Does not meet the credit policy. Status:Charge...</td>\n",
       "      <td>9527.233903</td>\n",
       "      <td>579.002047</td>\n",
       "      <td>8.0</td>\n",
       "      <td>85.0</td>\n",
       "      <td>148.0</td>\n",
       "      <td>197.0</td>\n",
       "      <td>158.0</td>\n",
       "      <td>93.0</td>\n",
       "      <td>72.0</td>\n",
       "    </tr>\n",
       "  </tbody>\n",
       "</table>\n",
       "</div>"
      ],
      "text/plain": [
       "                                         loan_status  loan_amnt (average)  \\\n",
       "3                                    In Grace Period         16005.741244   \n",
       "4                                  Late (16-30 days)         15670.661858   \n",
       "2                                               Late         15569.308084   \n",
       "1                                             Issued         15298.587470   \n",
       "5                                            Default         15193.847416   \n",
       "0                                        Charged Off         14556.293096   \n",
       "6  Does not meet the credit policy. Status:Charge...          9527.233903   \n",
       "\n",
       "   recoveries (average)  grade_A  grade_B  grade_C  grade_D  grade_E  grade_F  \\\n",
       "3              0.000000    365.0   1240.0   1887.0   1405.0    908.0    354.0   \n",
       "4              0.000000    134.0    410.0    678.0    569.0    368.0    155.0   \n",
       "2              0.000000    492.0   2004.0   3339.0   2890.0   1852.0    768.0   \n",
       "1              0.000000   1448.0   2529.0   2472.0   1185.0    593.0    194.0   \n",
       "5              0.000000     47.0    198.0    360.0    312.0    201.0     79.0   \n",
       "0            890.805156   2617.0   9519.0  12642.0  10486.0   6258.0   2934.0   \n",
       "6            579.002047      8.0     85.0    148.0    197.0    158.0     93.0   \n",
       "\n",
       "   grade_G  \n",
       "3     94.0  \n",
       "4     43.0  \n",
       "2    246.0  \n",
       "1     39.0  \n",
       "5     22.0  \n",
       "0    792.0  \n",
       "6     72.0  "
      ]
     },
     "execution_count": 156,
     "metadata": {},
     "output_type": "execute_result"
    }
   ],
   "source": [
    "df1 = df[(df.loan_status=='Charged Off') |\n",
    "   (df.loan_status=='Issued') |\n",
    "   (df.loan_status=='Late (31-120 days)') |\n",
    "   (df.loan_status=='In Grace Period') |\n",
    "   (df.loan_status=='Late (16-30 days)') |\n",
    "   (df.loan_status=='Default') |\n",
    "   (df.loan_status=='Does not meet the credit policy. Status:Charged Off')]\n",
    "\n",
    "\n",
    "# Hot encode loan grade (A, B, C, D, E, F, G)\n",
    "tmp_df = pd.get_dummies(df1.grade,prefix='grade')\n",
    "df1 = pd.concat((df1,tmp_df),axis=1)\n",
    "\n",
    "c1 = df1[df1.loan_status=='Charged Off'].loan_amnt.mean()\n",
    "c2 = df1[df1.loan_status=='Issued'].loan_amnt.mean()\n",
    "c3 = df1[df1.loan_status=='Late (31-120 days)'].loan_amnt.mean()\n",
    "c4 = df1[df1.loan_status=='In Grace Period'].loan_amnt.mean()\n",
    "c5 = df1[df1.loan_status=='Late (16-30 days)'].loan_amnt.mean()\n",
    "c6 = df1[df1.loan_status=='Default'].loan_amnt.mean()\n",
    "c7 = df1[df1.loan_status=='Does not meet the credit policy. Status:Charged Off'].loan_amnt.mean()\n",
    "\n",
    "r1 = df1[df1.loan_status=='Charged Off'].recoveries.mean()\n",
    "r2 = df1[df1.loan_status=='Issued'].recoveries.mean()\n",
    "r3 = df1[df1.loan_status=='Late (31-120 days)'].recoveries.mean()\n",
    "r4 = df1[df1.loan_status=='In Grace Period'].recoveries.mean()\n",
    "r5 = df1[df1.loan_status=='Late (16-30 days)'].recoveries.mean()\n",
    "r6 = df1[df1.loan_status=='Default'].recoveries.mean()\n",
    "r7 = df1[df1.loan_status=='Does not meet the credit policy. Status:Charged Off'].recoveries.mean()\n",
    "\n",
    "g1 = df1[df1.loan_status=='Charged Off'].grade_A.sum()\n",
    "g2 = df1[df1.loan_status=='Charged Off'].grade_B.sum()\n",
    "g3 = df1[df1.loan_status=='Charged Off'].grade_C.sum()\n",
    "g4 = df1[df1.loan_status=='Charged Off'].grade_D.sum()\n",
    "g5 = df1[df1.loan_status=='Charged Off'].grade_E.sum()\n",
    "g6 = df1[df1.loan_status=='Charged Off'].grade_F.sum()\n",
    "g7 = df1[df1.loan_status=='Charged Off'].grade_G.sum()\n",
    "\n",
    "h1 = df1[df1.loan_status=='Issued'].grade_A.sum()\n",
    "h2 = df1[df1.loan_status=='Issued'].grade_B.sum()\n",
    "h3 = df1[df1.loan_status=='Issued'].grade_C.sum()\n",
    "h4 = df1[df1.loan_status=='Issued'].grade_D.sum()\n",
    "h5 = df1[df1.loan_status=='Issued'].grade_E.sum()\n",
    "h6 = df1[df1.loan_status=='Issued'].grade_F.sum()\n",
    "h7 = df1[df1.loan_status=='Issued'].grade_G.sum()\n",
    "\n",
    "i1 = df1[df1.loan_status=='Late (31-120 days)'].grade_A.sum()\n",
    "i2 = df1[df1.loan_status=='Late (31-120 days)'].grade_B.sum()\n",
    "i3 = df1[df1.loan_status=='Late (31-120 days)'].grade_C.sum()\n",
    "i4 = df1[df1.loan_status=='Late (31-120 days)'].grade_D.sum()\n",
    "i5 = df1[df1.loan_status=='Late (31-120 days)'].grade_E.sum()\n",
    "i6 = df1[df1.loan_status=='Late (31-120 days)'].grade_F.sum()\n",
    "i7 = df1[df1.loan_status=='Late (31-120 days)'].grade_G.sum()\n",
    "\n",
    "j1 = df1[df1.loan_status=='In Grace Period'].grade_A.sum()\n",
    "j2 = df1[df1.loan_status=='In Grace Period'].grade_B.sum()\n",
    "j3 = df1[df1.loan_status=='In Grace Period'].grade_C.sum()\n",
    "j4 = df1[df1.loan_status=='In Grace Period'].grade_D.sum()\n",
    "j5 = df1[df1.loan_status=='In Grace Period'].grade_E.sum()\n",
    "j6 = df1[df1.loan_status=='In Grace Period'].grade_F.sum()\n",
    "j7 = df1[df1.loan_status=='In Grace Period'].grade_G.sum()\n",
    "\n",
    "k1 = df1[df1.loan_status=='Late (16-30 days)'].grade_A.sum()\n",
    "k2 = df1[df1.loan_status=='Late (16-30 days)'].grade_B.sum()\n",
    "k3 = df1[df1.loan_status=='Late (16-30 days)'].grade_C.sum()\n",
    "k4 = df1[df1.loan_status=='Late (16-30 days)'].grade_D.sum()\n",
    "k5 = df1[df1.loan_status=='Late (16-30 days)'].grade_E.sum()\n",
    "k6 = df1[df1.loan_status=='Late (16-30 days)'].grade_F.sum()\n",
    "k7 = df1[df1.loan_status=='Late (16-30 days)'].grade_G.sum()\n",
    "\n",
    "l1 = df1[df1.loan_status=='Default'].grade_A.sum()\n",
    "l2 = df1[df1.loan_status=='Default'].grade_B.sum()\n",
    "l3 = df1[df1.loan_status=='Default'].grade_C.sum()\n",
    "l4 = df1[df1.loan_status=='Default'].grade_D.sum()\n",
    "l5 = df1[df1.loan_status=='Default'].grade_E.sum()\n",
    "l6 = df1[df1.loan_status=='Default'].grade_F.sum()\n",
    "l7 = df1[df1.loan_status=='Default'].grade_G.sum()\n",
    "\n",
    "m1 = df1[df1.loan_status=='Does not meet the credit policy. Status:Charged Off'].grade_A.sum()\n",
    "m2 = df1[df1.loan_status=='Does not meet the credit policy. Status:Charged Off'].grade_B.sum()\n",
    "m3 = df1[df1.loan_status=='Does not meet the credit policy. Status:Charged Off'].grade_C.sum()\n",
    "m4 = df1[df1.loan_status=='Does not meet the credit policy. Status:Charged Off'].grade_D.sum()\n",
    "m5 = df1[df1.loan_status=='Does not meet the credit policy. Status:Charged Off'].grade_E.sum()\n",
    "m6 = df1[df1.loan_status=='Does not meet the credit policy. Status:Charged Off'].grade_F.sum()\n",
    "m7 = df1[df1.loan_status=='Does not meet the credit policy. Status:Charged Off'].grade_G.sum()\n",
    "\n",
    "\n",
    "columns = ['loan_status',\n",
    "           'loan_amnt (average)',\n",
    "           'recoveries (average)',\n",
    "           'grade_A',\n",
    "           'grade_B',\n",
    "           'grade_C',\n",
    "           'grade_D',\n",
    "           'grade_E',\n",
    "           'grade_F',\n",
    "           'grade_G']\n",
    "\n",
    "data = {'loan_status': ['Charged Off', 'Issued', 'Late', 'In Grace Period', 'Late (16-30 days)','Default', 'Does not meet the credit policy. Status:Charged Off' ],\n",
    "        'loan_amnt (average)': [c1, c2, c3, c4, c5, c6, c7],\n",
    "        'recoveries (average)': [r1, r2, r3, r4, r5, r6, r7],\n",
    "        'grade_A': [g1, h1, i1, j1, k1, l1, m1],\n",
    "        'grade_B': [g2, h2, i2, j2, k2, l2, m2],\n",
    "        'grade_C': [g3, h3, i3, j3, k3, l3, m3],\n",
    "        'grade_D': [g4, h4, i4, j4, k4, l4, m4],\n",
    "        'grade_E': [g5, h5, i5, j5, k5, l5, m5],\n",
    "        'grade_F': [g6, h6, i6, j6, k6, l6, m6],\n",
    "        'grade_G': [g7, h7, i7, j7, k7, l7, m7],\n",
    "       }\n",
    "\n",
    "df_ = pd.DataFrame(data=data, columns=columns)\n",
    "df_.sort_values(by='loan_amnt (average)', ascending=False)"
   ]
  },
  {
   "cell_type": "code",
   "execution_count": 142,
   "metadata": {
    "collapsed": false
   },
   "outputs": [
    {
     "data": {
      "text/html": [
       "<div>\n",
       "<table border=\"1\" class=\"dataframe\">\n",
       "  <thead>\n",
       "    <tr style=\"text-align: right;\">\n",
       "      <th></th>\n",
       "      <th>loan_status</th>\n",
       "      <th>loan_amnt (average)</th>\n",
       "      <th>recoveries (average)</th>\n",
       "    </tr>\n",
       "  </thead>\n",
       "  <tbody>\n",
       "    <tr>\n",
       "      <th>1</th>\n",
       "      <td>Current</td>\n",
       "      <td>15241.880242</td>\n",
       "      <td>0.0</td>\n",
       "    </tr>\n",
       "    <tr>\n",
       "      <th>0</th>\n",
       "      <td>Fully Paid</td>\n",
       "      <td>13346.350910</td>\n",
       "      <td>0.0</td>\n",
       "    </tr>\n",
       "    <tr>\n",
       "      <th>2</th>\n",
       "      <td>Does not meet the credit policy. Status:Fully ...</td>\n",
       "      <td>8853.231891</td>\n",
       "      <td>0.0</td>\n",
       "    </tr>\n",
       "  </tbody>\n",
       "</table>\n",
       "</div>"
      ],
      "text/plain": [
       "                                         loan_status  loan_amnt (average)  \\\n",
       "1                                            Current         15241.880242   \n",
       "0                                         Fully Paid         13346.350910   \n",
       "2  Does not meet the credit policy. Status:Fully ...          8853.231891   \n",
       "\n",
       "   recoveries (average)  \n",
       "1                   0.0  \n",
       "0                   0.0  \n",
       "2                   0.0  "
      ]
     },
     "execution_count": 142,
     "metadata": {},
     "output_type": "execute_result"
    }
   ],
   "source": [
    "df2 = df[(df.loan_status=='Fully Paid') |\n",
    "         (df.loan_status=='Current') |\n",
    "         (df.loan_status=='Does not meet the credit policy. Status:Fully Paid')]\n",
    "\n",
    "c1 = df2[df2.loan_status=='Fully Paid'].loan_amnt.mean()\n",
    "c2 = df2[df2.loan_status=='Current'].loan_amnt.mean()\n",
    "c3 = df2[df2.loan_status=='Does not meet the credit policy. Status:Fully Paid'].loan_amnt.mean()\n",
    "\n",
    "r1 = df2[df2.loan_status=='Fully Paid'].recoveries.mean()\n",
    "r2 = df2[df2.loan_status=='Current'].recoveries.mean()\n",
    "r3 = df2[df2.loan_status=='Does not meet the credit policy. Status:Fully Paid'].recoveries.mean()\n",
    "\n",
    "columns = ['loan_status','loan_amnt (average)','recoveries (average)']\n",
    "data = {'loan_status': ['Fully Paid', 'Current', 'Does not meet the credit policy. Status:Fully Paid' ],\n",
    "        'loan_amnt (average)': [c1, c2, c3],\n",
    "        'recoveries (average)': [r1, r2, r3]}\n",
    "\n",
    "df2_ = pd.DataFrame(data=data, columns=columns)\n",
    "df2_.sort_values(by='loan_amnt (average)', ascending=False)"
   ]
  },
  {
   "cell_type": "code",
   "execution_count": 36,
   "metadata": {
    "collapsed": false
   },
   "outputs": [
    {
     "data": {
      "text/html": [
       "<div>\n",
       "<table border=\"1\" class=\"dataframe\">\n",
       "  <thead>\n",
       "    <tr style=\"text-align: right;\">\n",
       "      <th></th>\n",
       "      <th>loan_amnt</th>\n",
       "      <th>funded_amnt</th>\n",
       "      <th>funded_amnt_inv</th>\n",
       "      <th>int_rate</th>\n",
       "      <th>installment</th>\n",
       "      <th>emp_length</th>\n",
       "      <th>annual_inc</th>\n",
       "      <th>dti</th>\n",
       "      <th>delinq_2yrs</th>\n",
       "      <th>open_acc</th>\n",
       "      <th>pub_rec</th>\n",
       "      <th>revol_bal</th>\n",
       "      <th>total_acc</th>\n",
       "      <th>total_pymnt</th>\n",
       "      <th>total_pymnt_inv</th>\n",
       "      <th>total_rec_prncp</th>\n",
       "      <th>total_rec_int</th>\n",
       "      <th>total_rec_late_fee</th>\n",
       "      <th>recoveries</th>\n",
       "      <th>collection_recovery_fee</th>\n",
       "    </tr>\n",
       "  </thead>\n",
       "  <tbody>\n",
       "    <tr>\n",
       "      <th>count</th>\n",
       "      <td>887379.000000</td>\n",
       "      <td>887379.000000</td>\n",
       "      <td>887379.000000</td>\n",
       "      <td>887379.000000</td>\n",
       "      <td>887379.000000</td>\n",
       "      <td>887379.000000</td>\n",
       "      <td>8.873750e+05</td>\n",
       "      <td>887379.000000</td>\n",
       "      <td>887350.000000</td>\n",
       "      <td>887350.000000</td>\n",
       "      <td>887350.000000</td>\n",
       "      <td>8.873790e+05</td>\n",
       "      <td>887350.000000</td>\n",
       "      <td>887379.000000</td>\n",
       "      <td>887379.000000</td>\n",
       "      <td>887379.000000</td>\n",
       "      <td>887379.000000</td>\n",
       "      <td>887379.000000</td>\n",
       "      <td>887379.000000</td>\n",
       "      <td>887379.000000</td>\n",
       "    </tr>\n",
       "    <tr>\n",
       "      <th>mean</th>\n",
       "      <td>14755.264605</td>\n",
       "      <td>14741.877625</td>\n",
       "      <td>14702.464383</td>\n",
       "      <td>13.246740</td>\n",
       "      <td>436.717127</td>\n",
       "      <td>5.957742</td>\n",
       "      <td>7.502759e+04</td>\n",
       "      <td>18.157039</td>\n",
       "      <td>0.314442</td>\n",
       "      <td>11.548469</td>\n",
       "      <td>0.195307</td>\n",
       "      <td>1.692079e+04</td>\n",
       "      <td>25.268026</td>\n",
       "      <td>7558.826684</td>\n",
       "      <td>7521.160306</td>\n",
       "      <td>5757.706424</td>\n",
       "      <td>1754.804327</td>\n",
       "      <td>0.396692</td>\n",
       "      <td>45.919243</td>\n",
       "      <td>4.880757</td>\n",
       "    </tr>\n",
       "    <tr>\n",
       "      <th>std</th>\n",
       "      <td>8435.455601</td>\n",
       "      <td>8429.897657</td>\n",
       "      <td>8442.106732</td>\n",
       "      <td>4.381867</td>\n",
       "      <td>244.186593</td>\n",
       "      <td>3.579183</td>\n",
       "      <td>6.469830e+04</td>\n",
       "      <td>17.190626</td>\n",
       "      <td>0.862244</td>\n",
       "      <td>5.317313</td>\n",
       "      <td>0.582091</td>\n",
       "      <td>2.242679e+04</td>\n",
       "      <td>11.840561</td>\n",
       "      <td>7871.243336</td>\n",
       "      <td>7846.108604</td>\n",
       "      <td>6625.441046</td>\n",
       "      <td>2095.356099</td>\n",
       "      <td>4.087825</td>\n",
       "      <td>409.693874</td>\n",
       "      <td>63.125281</td>\n",
       "    </tr>\n",
       "    <tr>\n",
       "      <th>min</th>\n",
       "      <td>500.000000</td>\n",
       "      <td>500.000000</td>\n",
       "      <td>0.000000</td>\n",
       "      <td>5.320000</td>\n",
       "      <td>15.670000</td>\n",
       "      <td>0.000000</td>\n",
       "      <td>0.000000e+00</td>\n",
       "      <td>0.000000</td>\n",
       "      <td>0.000000</td>\n",
       "      <td>0.000000</td>\n",
       "      <td>0.000000</td>\n",
       "      <td>0.000000e+00</td>\n",
       "      <td>1.000000</td>\n",
       "      <td>0.000000</td>\n",
       "      <td>0.000000</td>\n",
       "      <td>0.000000</td>\n",
       "      <td>0.000000</td>\n",
       "      <td>0.000000</td>\n",
       "      <td>0.000000</td>\n",
       "      <td>0.000000</td>\n",
       "    </tr>\n",
       "    <tr>\n",
       "      <th>25%</th>\n",
       "      <td>8000.000000</td>\n",
       "      <td>8000.000000</td>\n",
       "      <td>8000.000000</td>\n",
       "      <td>9.990000</td>\n",
       "      <td>260.705000</td>\n",
       "      <td>3.000000</td>\n",
       "      <td>NaN</td>\n",
       "      <td>11.910000</td>\n",
       "      <td>NaN</td>\n",
       "      <td>NaN</td>\n",
       "      <td>NaN</td>\n",
       "      <td>6.443000e+03</td>\n",
       "      <td>NaN</td>\n",
       "      <td>1914.590000</td>\n",
       "      <td>1899.700000</td>\n",
       "      <td>1200.570000</td>\n",
       "      <td>441.460000</td>\n",
       "      <td>0.000000</td>\n",
       "      <td>0.000000</td>\n",
       "      <td>0.000000</td>\n",
       "    </tr>\n",
       "    <tr>\n",
       "      <th>50%</th>\n",
       "      <td>13000.000000</td>\n",
       "      <td>13000.000000</td>\n",
       "      <td>13000.000000</td>\n",
       "      <td>12.990000</td>\n",
       "      <td>382.550000</td>\n",
       "      <td>6.000000</td>\n",
       "      <td>NaN</td>\n",
       "      <td>17.650000</td>\n",
       "      <td>NaN</td>\n",
       "      <td>NaN</td>\n",
       "      <td>NaN</td>\n",
       "      <td>1.187500e+04</td>\n",
       "      <td>NaN</td>\n",
       "      <td>4894.999117</td>\n",
       "      <td>4862.010000</td>\n",
       "      <td>3215.320000</td>\n",
       "      <td>1073.280000</td>\n",
       "      <td>0.000000</td>\n",
       "      <td>0.000000</td>\n",
       "      <td>0.000000</td>\n",
       "    </tr>\n",
       "    <tr>\n",
       "      <th>75%</th>\n",
       "      <td>20000.000000</td>\n",
       "      <td>20000.000000</td>\n",
       "      <td>20000.000000</td>\n",
       "      <td>16.200000</td>\n",
       "      <td>572.600000</td>\n",
       "      <td>10.000000</td>\n",
       "      <td>NaN</td>\n",
       "      <td>23.950000</td>\n",
       "      <td>NaN</td>\n",
       "      <td>NaN</td>\n",
       "      <td>NaN</td>\n",
       "      <td>2.082900e+04</td>\n",
       "      <td>NaN</td>\n",
       "      <td>10616.814231</td>\n",
       "      <td>10565.690000</td>\n",
       "      <td>8000.000000</td>\n",
       "      <td>2238.265000</td>\n",
       "      <td>0.000000</td>\n",
       "      <td>0.000000</td>\n",
       "      <td>0.000000</td>\n",
       "    </tr>\n",
       "    <tr>\n",
       "      <th>max</th>\n",
       "      <td>35000.000000</td>\n",
       "      <td>35000.000000</td>\n",
       "      <td>35000.000000</td>\n",
       "      <td>28.990000</td>\n",
       "      <td>1445.460000</td>\n",
       "      <td>10.000000</td>\n",
       "      <td>9.500000e+06</td>\n",
       "      <td>9999.000000</td>\n",
       "      <td>39.000000</td>\n",
       "      <td>90.000000</td>\n",
       "      <td>86.000000</td>\n",
       "      <td>2.904836e+06</td>\n",
       "      <td>169.000000</td>\n",
       "      <td>57777.579870</td>\n",
       "      <td>57777.580000</td>\n",
       "      <td>35000.030000</td>\n",
       "      <td>24205.620000</td>\n",
       "      <td>358.680000</td>\n",
       "      <td>33520.270000</td>\n",
       "      <td>7002.190000</td>\n",
       "    </tr>\n",
       "  </tbody>\n",
       "</table>\n",
       "</div>"
      ],
      "text/plain": [
       "           loan_amnt    funded_amnt  funded_amnt_inv       int_rate  \\\n",
       "count  887379.000000  887379.000000    887379.000000  887379.000000   \n",
       "mean    14755.264605   14741.877625     14702.464383      13.246740   \n",
       "std      8435.455601    8429.897657      8442.106732       4.381867   \n",
       "min       500.000000     500.000000         0.000000       5.320000   \n",
       "25%      8000.000000    8000.000000      8000.000000       9.990000   \n",
       "50%     13000.000000   13000.000000     13000.000000      12.990000   \n",
       "75%     20000.000000   20000.000000     20000.000000      16.200000   \n",
       "max     35000.000000   35000.000000     35000.000000      28.990000   \n",
       "\n",
       "         installment     emp_length    annual_inc            dti  \\\n",
       "count  887379.000000  887379.000000  8.873750e+05  887379.000000   \n",
       "mean      436.717127       5.957742  7.502759e+04      18.157039   \n",
       "std       244.186593       3.579183  6.469830e+04      17.190626   \n",
       "min        15.670000       0.000000  0.000000e+00       0.000000   \n",
       "25%       260.705000       3.000000           NaN      11.910000   \n",
       "50%       382.550000       6.000000           NaN      17.650000   \n",
       "75%       572.600000      10.000000           NaN      23.950000   \n",
       "max      1445.460000      10.000000  9.500000e+06    9999.000000   \n",
       "\n",
       "         delinq_2yrs       open_acc        pub_rec     revol_bal  \\\n",
       "count  887350.000000  887350.000000  887350.000000  8.873790e+05   \n",
       "mean        0.314442      11.548469       0.195307  1.692079e+04   \n",
       "std         0.862244       5.317313       0.582091  2.242679e+04   \n",
       "min         0.000000       0.000000       0.000000  0.000000e+00   \n",
       "25%              NaN            NaN            NaN  6.443000e+03   \n",
       "50%              NaN            NaN            NaN  1.187500e+04   \n",
       "75%              NaN            NaN            NaN  2.082900e+04   \n",
       "max        39.000000      90.000000      86.000000  2.904836e+06   \n",
       "\n",
       "           total_acc    total_pymnt  total_pymnt_inv  total_rec_prncp  \\\n",
       "count  887350.000000  887379.000000    887379.000000    887379.000000   \n",
       "mean       25.268026    7558.826684      7521.160306      5757.706424   \n",
       "std        11.840561    7871.243336      7846.108604      6625.441046   \n",
       "min         1.000000       0.000000         0.000000         0.000000   \n",
       "25%              NaN    1914.590000      1899.700000      1200.570000   \n",
       "50%              NaN    4894.999117      4862.010000      3215.320000   \n",
       "75%              NaN   10616.814231     10565.690000      8000.000000   \n",
       "max       169.000000   57777.579870     57777.580000     35000.030000   \n",
       "\n",
       "       total_rec_int  total_rec_late_fee     recoveries  \\\n",
       "count  887379.000000       887379.000000  887379.000000   \n",
       "mean     1754.804327            0.396692      45.919243   \n",
       "std      2095.356099            4.087825     409.693874   \n",
       "min         0.000000            0.000000       0.000000   \n",
       "25%       441.460000            0.000000       0.000000   \n",
       "50%      1073.280000            0.000000       0.000000   \n",
       "75%      2238.265000            0.000000       0.000000   \n",
       "max     24205.620000          358.680000   33520.270000   \n",
       "\n",
       "       collection_recovery_fee  \n",
       "count            887379.000000  \n",
       "mean                  4.880757  \n",
       "std                  63.125281  \n",
       "min                   0.000000  \n",
       "25%                   0.000000  \n",
       "50%                   0.000000  \n",
       "75%                   0.000000  \n",
       "max                7002.190000  "
      ]
     },
     "execution_count": 36,
     "metadata": {},
     "output_type": "execute_result"
    }
   ],
   "source": [
    "df.describe()"
   ]
  },
  {
   "cell_type": "code",
   "execution_count": null,
   "metadata": {
    "collapsed": true
   },
   "outputs": [],
   "source": [
    "df.recoveries.describe()"
   ]
  },
  {
   "cell_type": "code",
   "execution_count": null,
   "metadata": {
    "collapsed": false
   },
   "outputs": [],
   "source": [
    "df1.recoveries.describe()"
   ]
  },
  {
   "cell_type": "code",
   "execution_count": null,
   "metadata": {
    "collapsed": false
   },
   "outputs": [],
   "source": [
    "# Replace string values to numeric values for analysis purposes\n",
    "df = df.replace(to_replace=\" 36 months\",value=0)\n",
    "df = df.replace(to_replace=\" 60 months\",value=1)\n",
    "df = df.replace(to_replace= ['Fully Paid',\n",
    "                             'Current',\n",
    "                             'Does not meet the credit policy. Status:Fully Paid'],value = 0)\n",
    "df = df.replace(to_replace= ['Charged Off',\n",
    "                             'Issued',\n",
    "                             'Late (31-120 days)',\n",
    "                             'In Grace Period',\n",
    "                             'Late (16-30 days)',\n",
    "                             'Default',\n",
    "                             'Does not meet the credit policy. Status:Charged Off'], value = 1)\n",
    "df['loan_status'].value_counts()"
   ]
  },
  {
   "cell_type": "markdown",
   "metadata": {},
   "source": [
    "### Correlation Analysis\n",
    "\n",
    "The following section shows correlation between attributes.\n",
    "\n",
    "The correlation heatmap does not indicate a high-correlation bewteeen loan status and any of the attributes we investigated. We suspect there is multi-colinearity between the attributes. Further investigation of the interactions will need to be performed.\n",
    "\n",
    "We also attempted to drop some of the multi-colinear attributes, however, that did not significantly improve the correlation to the loan status.\n",
    "\n",
    "We note that the strongest correlation to the loan status is the interest rate at **0.16**."
   ]
  },
  {
   "cell_type": "code",
   "execution_count": null,
   "metadata": {
    "collapsed": false,
    "scrolled": true
   },
   "outputs": [],
   "source": [
    "df.corr()"
   ]
  },
  {
   "cell_type": "markdown",
   "metadata": {},
   "source": [
    "Correlation/Heatmap Matrix"
   ]
  },
  {
   "cell_type": "code",
   "execution_count": null,
   "metadata": {
    "collapsed": false
   },
   "outputs": [],
   "source": [
    "from matplotlib import pyplot as plt\n",
    "sb.set_style(\"whitegrid\")\n",
    "\n",
    "# Compute the correlation matrix\n",
    "corr = df.corr()\n",
    "\n",
    "# Generate a mask for the upper triangle\n",
    "mask = np.zeros_like(corr, dtype=np.bool)\n",
    "mask[np.triu_indices_from(mask)] = True\n",
    "\n",
    "# Set up the matplotlib figure\n",
    "f, ax = plt.subplots(figsize=(12, 10))\n",
    "\n",
    "# Generate a custom diverging colormap\n",
    "cmap = sb.diverging_palette(220, 10, as_cmap=True)\n",
    "\n",
    "# Draw the heatmap with the mask and correct aspect ratio\n",
    "sb.heatmap(corr,\n",
    "           cmap=cmap,\n",
    "           mask=mask,\n",
    "           square=True,\n",
    "           linewidths=0.5,\n",
    "           cbar_kws={\"shrink\": 0.80},\n",
    "           ax=ax,\n",
    "           vmax=0.5)\n",
    "\n",
    "plt.yticks(rotation=0)\n",
    "plt.xticks(rotation=90)\n",
    "plt.show()"
   ]
  },
  {
   "cell_type": "code",
   "execution_count": null,
   "metadata": {
    "collapsed": false
   },
   "outputs": [],
   "source": [
    "df.drop(['funded_amnt',\n",
    "         'funded_amnt_inv',\n",
    "         'installment',\n",
    "         'total_pymnt_inv',\n",
    "         'total_rec_prncp',\n",
    "         'total_rec_int',\n",
    "         'collection_recovery_fee',\n",
    "         'open_acc'], axis=1, inplace=True)"
   ]
  },
  {
   "cell_type": "code",
   "execution_count": null,
   "metadata": {
    "collapsed": false
   },
   "outputs": [],
   "source": [
    "df.corr()"
   ]
  },
  {
   "cell_type": "markdown",
   "metadata": {},
   "source": [
    "### Conclusion"
   ]
  },
  {
   "cell_type": "markdown",
   "metadata": {},
   "source": [
    "Since the loan status is overwhelmingly biased toward good standing (**91.45%**), it masks the correlation of the other attributes, making it hard to form a simple prediction model. Further investigation will be required in order to better understand characteristics of this data set. Overall, it is obvious the business model is viable in practice based on the success of rate of the loans given by Lending Club."
   ]
  },
  {
   "cell_type": "code",
   "execution_count": null,
   "metadata": {
    "collapsed": true
   },
   "outputs": [],
   "source": []
  }
 ],
 "metadata": {
  "kernelspec": {
   "display_name": "Python 2",
   "language": "python",
   "name": "python2"
  },
  "language_info": {
   "codemirror_mode": {
    "name": "ipython",
    "version": 2
   },
   "file_extension": ".py",
   "mimetype": "text/x-python",
   "name": "python",
   "nbconvert_exporter": "python",
   "pygments_lexer": "ipython2",
   "version": "2.7.12"
  }
 },
 "nbformat": 4,
 "nbformat_minor": 0
}
